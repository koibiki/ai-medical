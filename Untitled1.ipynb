{
 "cells": [
  {
   "cell_type": "code",
   "execution_count": 2,
   "metadata": {},
   "outputs": [
    {
     "name": "stderr",
     "output_type": "stream",
     "text": [
      "/usr/local/lib/python3.5/dist-packages/sklearn/cross_validation.py:41: DeprecationWarning: This module was deprecated in version 0.18 in favor of the model_selection module into which all the refactored classes and functions are moved. Also note that the interface of the new CV iterators are different from that of this module. This module will be removed in 0.20.\n",
      "  \"This module will be removed in 0.20.\", DeprecationWarning)\n"
     ]
    }
   ],
   "source": [
    "import numpy as np\n",
    "import pandas as pd\n",
    "%matplotlib inline\n",
    "import matplotlib.pyplot as plt\n",
    "\n",
    "from feature_engineering.segment_raw_data import segment_raw_data\n",
    "from feature_engineering.rank_feature import rank_feature, rank_feature_by_max, rank_feature_count\n",
    "from model_selection.classifier_model_factory import ClassifierModelFactory\n",
    "from model_selection.regressor_model_factory import RegressorModelFactory\n",
    "from sklearn.model_selection import train_test_split\n",
    "from sklearn.metrics import accuracy_score\n",
    "from sklearn.metrics import mean_squared_error\n",
    "from model_selection.cv import k_fold_regressor, balance_k_fold_regressor\n",
    "from utils import create_scale_feature\n",
    "from sampling.sample import separate_high_median_normal\n",
    "from sklearn.cluster import KMeans\n",
    "from scipy.spatial.distance import cdist\n",
    "from utils import create_scale_feature\n",
    "from utils import fix_min"
   ]
  },
  {
   "cell_type": "code",
   "execution_count": 3,
   "metadata": {},
   "outputs": [],
   "source": [
    "train = pd.read_csv('input/d_train_20180102.csv', encoding='gb2312')\n",
    "test = pd.read_csv('input/d_test_A_20180102.csv', encoding='gb2312')"
   ]
  },
  {
   "cell_type": "code",
   "execution_count": 4,
   "metadata": {},
   "outputs": [],
   "source": [
    "train_data = train.iloc[:, 1:-1]\n",
    "train_target = train.iloc[:, -1]   # >7   455\n",
    "test_data = test.iloc[:, 1:]"
   ]
  },
  {
   "cell_type": "code",
   "execution_count": 5,
   "metadata": {},
   "outputs": [],
   "source": [
    "train_data['性别'] = train_data['性别'].map({'男': 1, '女': 0})\n",
    "test_data['性别'] = test_data['性别'].map({'男': 1, '女': 0})"
   ]
  },
  {
   "cell_type": "code",
   "execution_count": 6,
   "metadata": {},
   "outputs": [],
   "source": [
    "train_data = train_data.drop(['体检日期'], axis=1)\n",
    "test_data = test_data.drop(['体检日期'], axis=1)"
   ]
  },
  {
   "cell_type": "code",
   "execution_count": 7,
   "metadata": {},
   "outputs": [],
   "source": [
    "train_data.fillna(train_data.median(axis=0), inplace=True)\n",
    "test_data.fillna(test_data.median(axis=0), inplace=True)"
   ]
  },
  {
   "cell_type": "code",
   "execution_count": 8,
   "metadata": {},
   "outputs": [],
   "source": [
    "columns = train_data.columns\n",
    "str_columns = ['sex', 'age'] + ['f' + str(p) for p in range(len(columns)-2)]"
   ]
  },
  {
   "cell_type": "code",
   "execution_count": 9,
   "metadata": {},
   "outputs": [],
   "source": [
    "train_data.columns = str_columns\n",
    "test_data.columns = str_columns\n",
    "train_target.name = 'Y'"
   ]
  },
  {
   "cell_type": "code",
   "execution_count": 10,
   "metadata": {},
   "outputs": [],
   "source": [
    "train_data_target = pd.concat([train_data, train_target], axis=1)"
   ]
  },
  {
   "cell_type": "code",
   "execution_count": 13,
   "metadata": {},
   "outputs": [],
   "source": [
    "high, median, normal = separate_high_median_normal_10(train_data_target)"
   ]
  },
  {
   "cell_type": "code",
   "execution_count": 35,
   "metadata": {},
   "outputs": [],
   "source": [
    "def normalize_feature(data, f_min=0, f_max = 100):\n",
    "    d_min, d_max = min(data), max(data)\n",
    "    factor = (f_max - f_min)/(d_max - d_min)\n",
    "    normalized = f_min + (data - d_min) * factor\n",
    "    return normalized, factor"
   ]
  },
  {
   "cell_type": "code",
   "execution_count": 12,
   "metadata": {},
   "outputs": [],
   "source": [
    "def separate_high_median_normal_10(data):\n",
    "    high = data[data['Y'] >= 10]\n",
    "    median = data[(data['Y'] >= 6.1).values & (data['Y'] < 10).values]\n",
    "    normal = data[data['Y'] < 6.1]\n",
    "    return high, median, normal"
   ]
  },
  {
   "cell_type": "code",
   "execution_count": null,
   "metadata": {},
   "outputs": [],
   "source": [
    "def normalize_data_frame(data):\n",
    "    "
   ]
  },
  {
   "cell_type": "code",
   "execution_count": 80,
   "metadata": {},
   "outputs": [],
   "source": [
    "train_data_male_old = train_data[(train_data['sex'] == 1).values & (train_data['age'] > 25).values & (train_data['age'] > 40).values]"
   ]
  },
  {
   "cell_type": "code",
   "execution_count": 81,
   "metadata": {},
   "outputs": [
    {
     "name": "stderr",
     "output_type": "stream",
     "text": [
      "/usr/local/lib/python3.5/dist-packages/pandas/core/indexing.py:537: SettingWithCopyWarning: \n",
      "A value is trying to be set on a copy of a slice from a DataFrame.\n",
      "Try using .loc[row_indexer,col_indexer] = value instead\n",
      "\n",
      "See the caveats in the documentation: http://pandas.pydata.org/pandas-docs/stable/indexing.html#indexing-view-versus-copy\n",
      "  self.obj[item] = s\n"
     ]
    }
   ],
   "source": [
    "train_data_male_old.iloc[:, 3], factor = normalize_feature(train_data_male_old.iloc[:, 3])"
   ]
  },
  {
   "cell_type": "code",
   "execution_count": null,
   "metadata": {},
   "outputs": [],
   "source": []
  },
  {
   "cell_type": "code",
   "execution_count": 82,
   "metadata": {},
   "outputs": [],
   "source": [
    "k_mean_data = train_data_male_old.iloc[:, 3]\n",
    "k_mean_data = pd.DataFrame(k_mean_data)"
   ]
  },
  {
   "cell_type": "code",
   "execution_count": 83,
   "metadata": {},
   "outputs": [],
   "source": [
    "K = range(1,10)\n",
    "mean_distortions = []\n",
    "for k in K:\n",
    "    kmeans=KMeans(n_clusters=k)\n",
    "    kmeans.fit(k_mean_data)\n",
    "    mean_distortions.append(sum(np.min(cdist(k_mean_data, kmeans.cluster_centers_, 'euclidean'), axis=1))/k_mean_data.shape[0])"
   ]
  },
  {
   "cell_type": "code",
   "execution_count": 84,
   "metadata": {},
   "outputs": [
    {
     "data": {
      "image/png": "[encoded data removed]",
      "text/plain": [
       "<matplotlib.figure.Figure at 0x7f7a1b7482e8>"
      ]
     },
     "metadata": {},
     "output_type": "display_data"
    }
   ],
   "source": [
    "plt.plot(K, mean_distortions, 'bx-')\n",
    "plt.xlabel('k')\n",
    "plt.ylabel('Average Dispersion')\n",
    "plt.title('Selection k with the Elbow Method')\n",
    "plt.show()"
   ]
  },
  {
   "cell_type": "code",
   "execution_count": 85,
   "metadata": {},
   "outputs": [
    {
     "data": {
      "image/png": "[encoded data removed]",
      "text/plain": [
       "<matplotlib.figure.Figure at 0x7f7a1b748630>"
      ]
     },
     "metadata": {},
     "output_type": "display_data"
    }
   ],
   "source": [
    "plt.scatter(range(len(k_mean_data.iloc[:,0])), k_mean_data.iloc[:,0], label='y_pred')\n",
    "plt.show()"
   ]
  },
  {
   "cell_type": "code",
   "execution_count": 86,
   "metadata": {},
   "outputs": [
    {
     "data": {
      "image/png": "[encoded data removed]",
      "text/plain": [
       "<matplotlib.figure.Figure at 0x7f7a1b7537f0>"
      ]
     },
     "metadata": {},
     "output_type": "display_data"
    }
   ],
   "source": [
    "sort = k_mean_data.iloc[:,0].sort_values()\n",
    "sort = sort.reset_index(drop=True)\n",
    "plt.scatter(range(len(sort)), sort, label='y_pred')\n",
    "plt.show()"
   ]
  },
  {
   "cell_type": "code",
   "execution_count": 517,
   "metadata": {},
   "outputs": [
    {
     "data": {
      "text/html": [
       "<div>\n",
       "<style scoped>\n",
       "    .dataframe tbody tr th:only-of-type {\n",
       "        vertical-align: middle;\n",
       "    }\n",
       "\n",
       "    .dataframe tbody tr th {\n",
       "        vertical-align: top;\n",
       "    }\n",
       "\n",
       "    .dataframe thead th {\n",
       "        text-align: right;\n",
       "    }\n",
       "</style>\n",
       "<table border=\"1\" class=\"dataframe\">\n",
       "  <thead>\n",
       "    <tr style=\"text-align: right;\">\n",
       "      <th></th>\n",
       "      <th>sex</th>\n",
       "      <th>age</th>\n",
       "      <th>f0</th>\n",
       "      <th>f1</th>\n",
       "      <th>f2</th>\n",
       "      <th>f3</th>\n",
       "      <th>f4</th>\n",
       "      <th>f5</th>\n",
       "      <th>f6</th>\n",
       "      <th>f7</th>\n",
       "      <th>...</th>\n",
       "      <th>f27</th>\n",
       "      <th>f28</th>\n",
       "      <th>f29</th>\n",
       "      <th>f30</th>\n",
       "      <th>f31</th>\n",
       "      <th>f32</th>\n",
       "      <th>f33</th>\n",
       "      <th>f34</th>\n",
       "      <th>f35</th>\n",
       "      <th>f36</th>\n",
       "    </tr>\n",
       "  </thead>\n",
       "  <tbody>\n",
       "    <tr>\n",
       "      <th>0</th>\n",
       "      <td>1.0</td>\n",
       "      <td>41</td>\n",
       "      <td>24.96</td>\n",
       "      <td>23.10</td>\n",
       "      <td>99.59</td>\n",
       "      <td>20.23</td>\n",
       "      <td>76.88</td>\n",
       "      <td>49.60</td>\n",
       "      <td>27.28</td>\n",
       "      <td>1.82</td>\n",
       "      <td>...</td>\n",
       "      <td>12.8</td>\n",
       "      <td>166.0</td>\n",
       "      <td>9.9</td>\n",
       "      <td>17.4</td>\n",
       "      <td>0.164</td>\n",
       "      <td>54.1</td>\n",
       "      <td>34.2</td>\n",
       "      <td>6.5</td>\n",
       "      <td>4.7</td>\n",
       "      <td>0.6</td>\n",
       "    </tr>\n",
       "    <tr>\n",
       "      <th>1</th>\n",
       "      <td>1.0</td>\n",
       "      <td>41</td>\n",
       "      <td>24.57</td>\n",
       "      <td>36.25</td>\n",
       "      <td>67.21</td>\n",
       "      <td>79.00</td>\n",
       "      <td>79.43</td>\n",
       "      <td>47.76</td>\n",
       "      <td>31.67</td>\n",
       "      <td>1.51</td>\n",
       "      <td>...</td>\n",
       "      <td>13.4</td>\n",
       "      <td>277.0</td>\n",
       "      <td>9.2</td>\n",
       "      <td>10.3</td>\n",
       "      <td>0.260</td>\n",
       "      <td>52.0</td>\n",
       "      <td>36.7</td>\n",
       "      <td>5.8</td>\n",
       "      <td>4.7</td>\n",
       "      <td>0.8</td>\n",
       "    </tr>\n",
       "    <tr>\n",
       "      <th>2</th>\n",
       "      <td>1.0</td>\n",
       "      <td>46</td>\n",
       "      <td>20.82</td>\n",
       "      <td>15.23</td>\n",
       "      <td>63.69</td>\n",
       "      <td>38.17</td>\n",
       "      <td>86.23</td>\n",
       "      <td>48.00</td>\n",
       "      <td>38.23</td>\n",
       "      <td>1.26</td>\n",
       "      <td>...</td>\n",
       "      <td>13.0</td>\n",
       "      <td>241.0</td>\n",
       "      <td>8.3</td>\n",
       "      <td>16.6</td>\n",
       "      <td>0.199</td>\n",
       "      <td>48.1</td>\n",
       "      <td>40.3</td>\n",
       "      <td>7.7</td>\n",
       "      <td>3.2</td>\n",
       "      <td>0.8</td>\n",
       "    </tr>\n",
       "    <tr>\n",
       "      <th>3</th>\n",
       "      <td>0.0</td>\n",
       "      <td>22</td>\n",
       "      <td>14.99</td>\n",
       "      <td>10.59</td>\n",
       "      <td>74.08</td>\n",
       "      <td>20.22</td>\n",
       "      <td>70.98</td>\n",
       "      <td>44.02</td>\n",
       "      <td>26.96</td>\n",
       "      <td>1.63</td>\n",
       "      <td>...</td>\n",
       "      <td>12.6</td>\n",
       "      <td>252.0</td>\n",
       "      <td>10.3</td>\n",
       "      <td>10.8</td>\n",
       "      <td>0.260</td>\n",
       "      <td>41.7</td>\n",
       "      <td>46.5</td>\n",
       "      <td>6.7</td>\n",
       "      <td>4.6</td>\n",
       "      <td>0.5</td>\n",
       "    </tr>\n",
       "    <tr>\n",
       "      <th>4</th>\n",
       "      <td>0.0</td>\n",
       "      <td>48</td>\n",
       "      <td>20.07</td>\n",
       "      <td>14.78</td>\n",
       "      <td>75.79</td>\n",
       "      <td>22.72</td>\n",
       "      <td>78.05</td>\n",
       "      <td>41.83</td>\n",
       "      <td>36.22</td>\n",
       "      <td>1.15</td>\n",
       "      <td>...</td>\n",
       "      <td>16.6</td>\n",
       "      <td>316.0</td>\n",
       "      <td>11.1</td>\n",
       "      <td>14.0</td>\n",
       "      <td>0.350</td>\n",
       "      <td>56.6</td>\n",
       "      <td>33.1</td>\n",
       "      <td>9.1</td>\n",
       "      <td>0.6</td>\n",
       "      <td>0.6</td>\n",
       "    </tr>\n",
       "  </tbody>\n",
       "</table>\n",
       "<p>5 rows × 39 columns</p>\n",
       "</div>"
      ],
      "text/plain": [
       "   sex  age     f0     f1     f2     f3     f4     f5     f6    f7 ...    f27  \\\n",
       "0  1.0   41  24.96  23.10  99.59  20.23  76.88  49.60  27.28  1.82 ...   12.8   \n",
       "1  1.0   41  24.57  36.25  67.21  79.00  79.43  47.76  31.67  1.51 ...   13.4   \n",
       "2  1.0   46  20.82  15.23  63.69  38.17  86.23  48.00  38.23  1.26 ...   13.0   \n",
       "3  0.0   22  14.99  10.59  74.08  20.22  70.98  44.02  26.96  1.63 ...   12.6   \n",
       "4  0.0   48  20.07  14.78  75.79  22.72  78.05  41.83  36.22  1.15 ...   16.6   \n",
       "\n",
       "     f28   f29   f30    f31   f32   f33  f34  f35  f36  \n",
       "0  166.0   9.9  17.4  0.164  54.1  34.2  6.5  4.7  0.6  \n",
       "1  277.0   9.2  10.3  0.260  52.0  36.7  5.8  4.7  0.8  \n",
       "2  241.0   8.3  16.6  0.199  48.1  40.3  7.7  3.2  0.8  \n",
       "3  252.0  10.3  10.8  0.260  41.7  46.5  6.7  4.6  0.5  \n",
       "4  316.0  11.1  14.0  0.350  56.6  33.1  9.1  0.6  0.6  \n",
       "\n",
       "[5 rows x 39 columns]"
      ]
     },
     "execution_count": 517,
     "metadata": {},
     "output_type": "execute_result"
    }
   ],
   "source": [
    "train_data.head()"
   ]
  },
  {
   "cell_type": "code",
   "execution_count": 15,
   "metadata": {},
   "outputs": [
    {
     "data": {
      "text/plain": [
       "(5642, 39)"
      ]
     },
     "execution_count": 15,
     "metadata": {},
     "output_type": "execute_result"
    }
   ],
   "source": [
    "train_data.shape"
   ]
  },
  {
   "cell_type": "code",
   "execution_count": 16,
   "metadata": {},
   "outputs": [
    {
     "data": {
      "text/plain": [
       "0    24.96\n",
       "1    24.57\n",
       "2    20.82\n",
       "3    14.99\n",
       "4    20.07\n",
       "Name: f0, dtype: float64"
      ]
     },
     "execution_count": 16,
     "metadata": {},
     "output_type": "execute_result"
    }
   ],
   "source": [
    "train_data.iloc[:,2].head()"
   ]
  },
  {
   "cell_type": "code",
   "execution_count": 17,
   "metadata": {},
   "outputs": [],
   "source": [
    "test = train_data.iloc[:,2]"
   ]
  },
  {
   "cell_type": "code",
   "execution_count": 18,
   "metadata": {},
   "outputs": [
    {
     "name": "stderr",
     "output_type": "stream",
     "text": [
      "/home/chengli/IdeaProjects/ai-medical/feature_engineering/segment_raw_data.py:46: SettingWithCopyWarning: \n",
      "A value is trying to be set on a copy of a slice from a DataFrame\n",
      "\n",
      "See the caveats in the documentation: http://pandas.pydata.org/pandas-docs/stable/indexing.html#indexing-view-versus-copy\n",
      "  data['segment_' + str(index)] = data.apply(lambda x: 1 if x >= segment_param else 0)\n"
     ]
    }
   ],
   "source": [
    "srd = segment_raw_data(test, 2)"
   ]
  },
  {
   "cell_type": "code",
   "execution_count": 33,
   "metadata": {},
   "outputs": [
    {
     "ename": "NameError",
     "evalue": "name 'test_a' is not defined",
     "output_type": "error",
     "traceback": [
      "\u001b[0;31m---------------------------------------------------------------------------\u001b[0m",
      "\u001b[0;31mNameError\u001b[0m                                 Traceback (most recent call last)",
      "\u001b[0;32m<ipython-input-33-a74542124530>\u001b[0m in \u001b[0;36m<module>\u001b[0;34m()\u001b[0m\n\u001b[0;32m----> 1\u001b[0;31m \u001b[0mtest_a\u001b[0m\u001b[0;34m[\u001b[0m\u001b[0;34m'f0'\u001b[0m\u001b[0;34m]\u001b[0m \u001b[0;34m=\u001b[0m \u001b[0mpd\u001b[0m\u001b[0;34m.\u001b[0m\u001b[0mDataFrame\u001b[0m\u001b[0;34m(\u001b[0m\u001b[0mtrain_data\u001b[0m\u001b[0;34m[\u001b[0m\u001b[0;34m'f0'\u001b[0m\u001b[0;34m]\u001b[0m\u001b[0;34m)\u001b[0m\u001b[0;34m\u001b[0m\u001b[0m\n\u001b[0m",
      "\u001b[0;31mNameError\u001b[0m: name 'test_a' is not defined"
     ]
    }
   ],
   "source": [
    "test_a['f0'] = pd.DataFrame(train_data['f0'])"
   ]
  },
  {
   "cell_type": "code",
   "execution_count": 32,
   "metadata": {},
   "outputs": [
    {
     "ename": "NameError",
     "evalue": "name 'test1' is not defined",
     "output_type": "error",
     "traceback": [
      "\u001b[0;31m---------------------------------------------------------------------------\u001b[0m",
      "\u001b[0;31mNameError\u001b[0m                                 Traceback (most recent call last)",
      "\u001b[0;32m<ipython-input-32-dba7673010f1>\u001b[0m in \u001b[0;36m<module>\u001b[0;34m()\u001b[0m\n\u001b[0;32m----> 1\u001b[0;31m \u001b[0mtest1\u001b[0m\u001b[0;34m\u001b[0m\u001b[0m\n\u001b[0m",
      "\u001b[0;31mNameError\u001b[0m: name 'test1' is not defined"
     ]
    }
   ],
   "source": [
    "test1"
   ]
  },
  {
   "cell_type": "code",
   "execution_count": 28,
   "metadata": {},
   "outputs": [],
   "source": [
    "test['f01'] = train_data['f0'].apply(lambda x: 1 if x >= 40 else 0)"
   ]
  },
  {
   "cell_type": "code",
   "execution_count": 29,
   "metadata": {},
   "outputs": [
    {
     "data": {
      "text/plain": [
       "0                                                        24.96\n",
       "1                                                        24.57\n",
       "2                                                        20.82\n",
       "3                                                        14.99\n",
       "4                                                        20.07\n",
       "5                                                        23.72\n",
       "6                                                        24.97\n",
       "7                                                        37.32\n",
       "8                                                         21.7\n",
       "9                                                        18.89\n",
       "10                                                       27.33\n",
       "11                                                       22.89\n",
       "12                                                       30.11\n",
       "13                                                       16.82\n",
       "14                                                       24.58\n",
       "15                                                       20.07\n",
       "16                                                       18.49\n",
       "17                                                       24.71\n",
       "18                                                       31.44\n",
       "19                                                       23.58\n",
       "20                                                       33.25\n",
       "21                                                       26.53\n",
       "22                                                       24.13\n",
       "23                                                       15.77\n",
       "24                                                       20.24\n",
       "25                                                       20.89\n",
       "26                                                       32.03\n",
       "27                                                       34.62\n",
       "28                                                       28.36\n",
       "29                                                        29.6\n",
       "                                   ...                        \n",
       "5615                                                     40.69\n",
       "5616                                                     15.74\n",
       "5617                                                     41.57\n",
       "5618                                                     17.13\n",
       "5619                                                     22.87\n",
       "5620                                                     29.46\n",
       "5621                                                     17.99\n",
       "5622                                                     26.21\n",
       "5623                                                     22.22\n",
       "5624                                                     29.68\n",
       "5625                                                     20.52\n",
       "5626                                                     16.75\n",
       "5627                                                     20.36\n",
       "5628                                                     45.84\n",
       "5629                                                     23.38\n",
       "5630                                                     18.59\n",
       "5631                                                     22.08\n",
       "5632                                                     61.34\n",
       "5633                                                     29.09\n",
       "5634                                                     31.06\n",
       "5635                                                     20.92\n",
       "5636                                                     28.72\n",
       "5637                                                     18.82\n",
       "5638                                                     21.08\n",
       "5639                                                     22.95\n",
       "5640                                                     33.54\n",
       "5641                                                     21.37\n",
       "segment_2    0       0\n",
       "1       0\n",
       "2       0\n",
       "3       0\n",
       "4     ...\n",
       "f01          0       0\n",
       "1       0\n",
       "2       0\n",
       "3       0\n",
       "4     ...\n",
       "f0                    f0\n",
       "0     24.96\n",
       "1     24.57\n",
       "2     20.8...\n",
       "Name: f0, Length: 5645, dtype: object"
      ]
     },
     "execution_count": 29,
     "metadata": {},
     "output_type": "execute_result"
    }
   ],
   "source": [
    "test"
   ]
  },
  {
   "cell_type": "code",
   "execution_count": null,
   "metadata": {},
   "outputs": [],
   "source": []
  }
 ],
 "metadata": {
  "kernelspec": {
   "display_name": "Python 3",
   "language": "python",
   "name": "python3"
  },
  "language_info": {
   "codemirror_mode": {
    "name": "ipython",
    "version": 3
   },
   "file_extension": ".py",
   "mimetype": "text/x-python",
   "name": "python",
   "nbconvert_exporter": "python",
   "pygments_lexer": "ipython3",
   "version": "3.5.2"
  }
 },
 "nbformat": 4,
 "nbformat_minor": 2
}
