{
 "cells": [
  {
   "cell_type": "code",
   "execution_count": 1,
   "metadata": {},
   "outputs": [
    {
     "name": "stderr",
     "output_type": "stream",
     "text": [
      "/usr/local/lib/python3.5/dist-packages/sklearn/cross_validation.py:41: DeprecationWarning: This module was deprecated in version 0.18 in favor of the model_selection module into which all the refactored classes and functions are moved. Also note that the interface of the new CV iterators are different from that of this module. This module will be removed in 0.20.\n",
      "  \"This module will be removed in 0.20.\", DeprecationWarning)\n"
     ]
    }
   ],
   "source": [
    "import numpy as np\n",
    "import pandas as pd\n",
    "import matplotlib.pyplot as plt\n",
    "from scipy.spatial.distance import cdist\n",
    "from sklearn.cluster import KMeans\n",
    "from dateutil.parser import parse\n",
    "from sklearn.metrics import classification_report\n",
    "\n",
    "from imblearn.combine import SMOTETomek, SMOTEENN\n",
    "\n",
    "from feature_engineering.nan_stastics import nan_statics\n",
    "from feature_engineering.rank_feature_majority import rank_feature_majority_all, rank_feature_majority_train_valid_test\n",
    "from feature_engineering.segment_raw_data import segment_raw_data\n",
    "from feature_engineering.rank_feature import rank_feature, rank_feature_by_max, rank_feature_count\n",
    "from model_selection.classifier_model_factory import ClassifierModelFactory\n",
    "from model_selection.regressor_model_factory import RegressorModelFactory\n",
    "from model_selection.multi_classifier_model_factory import MultiClassifierModelFactory\n",
    "from sklearn.model_selection import train_test_split\n",
    "from sklearn.metrics import accuracy_score\n",
    "from sklearn.metrics import mean_squared_error\n",
    "from model_selection.cv import k_fold_regressor, k_fold_classifier, create_sample_k_fold_regressor\n",
    "from sampling.sample import sample_by_test_scale, separate_high_median_normal, separate_high_normal\n",
    "from utils import create_scale_feature, normalize_data_frame, delete_error_data, filtration, create_sample, logloss_to_class, softmax_to_class"
   ]
  },
  {
   "cell_type": "code",
   "execution_count": 2,
   "metadata": {},
   "outputs": [],
   "source": [
    "train = pd.read_csv('input/d_train_20180102.csv', encoding='gb2312')\n",
    "test = pd.read_csv('input/d_test_A_20180102.csv', encoding='gb2312')"
   ]
  },
  {
   "cell_type": "code",
   "execution_count": 3,
   "metadata": {},
   "outputs": [],
   "source": [
    "train_data = train.iloc[:, 1:-1]\n",
    "train_target = train.iloc[:, -1]\n",
    "test_data = test.iloc[:, 1:]"
   ]
  },
  {
   "cell_type": "code",
   "execution_count": 4,
   "metadata": {},
   "outputs": [],
   "source": [
    "train_data['性别'] = train_data['性别'].apply(lambda x:1 if x == '男' else 0)\n",
    "test_data['性别'] = test_data['性别'].apply(lambda x:1 if x == '男' else 0)"
   ]
  },
  {
   "cell_type": "code",
   "execution_count": 5,
   "metadata": {},
   "outputs": [],
   "source": [
    "train_data['体检日期'] = (pd.to_datetime(train_data['体检日期']) - parse('2016-10-09')).dt.days\n",
    "test_data['体检日期'] = (pd.to_datetime(test_data['体检日期']) - parse('2016-10-09')).dt.days"
   ]
  },
  {
   "cell_type": "code",
   "execution_count": 6,
   "metadata": {},
   "outputs": [],
   "source": [
    "columns = train_data.columns\n",
    "str_columns = ['sex', 'age', 'date'] + ['f' + str(p) for p in range(len(columns)-3)]"
   ]
  },
  {
   "cell_type": "code",
   "execution_count": 7,
   "metadata": {},
   "outputs": [],
   "source": [
    "train_data.columns = str_columns\n",
    "test_data.columns = str_columns\n",
    "train_target.name = 'Y'\n",
    "train_target_class = train_target.apply(lambda x: 1 if x > 7 else 0)"
   ]
  },
  {
   "cell_type": "code",
   "execution_count": 8,
   "metadata": {},
   "outputs": [],
   "source": [
    "train_test = pd.concat([train_data, test_data], axis=0)\n",
    "train_test, factors = normalize_data_frame(train_test, start_index=2)\n",
    "train_data = train_test.iloc[:train_data.shape[0]]\n",
    "test_data = train_test.iloc[train_data.shape[0]:]"
   ]
  },
  {
   "cell_type": "code",
   "execution_count": 9,
   "metadata": {},
   "outputs": [
    {
     "name": "stderr",
     "output_type": "stream",
     "text": [
      "/usr/local/lib/python3.5/dist-packages/pandas/core/frame.py:3035: SettingWithCopyWarning: \n",
      "A value is trying to be set on a copy of a slice from a DataFrame\n",
      "\n",
      "See the caveats in the documentation: http://pandas.pydata.org/pandas-docs/stable/indexing.html#indexing-view-versus-copy\n",
      "  downcast=downcast, **kwargs)\n"
     ]
    }
   ],
   "source": [
    "train_data.fillna(-99, inplace=True)\n",
    "test_data.fillna(-99, inplace=True)"
   ]
  },
  {
   "cell_type": "code",
   "execution_count": 48,
   "metadata": {},
   "outputs": [],
   "source": [
    "train_data_target = pd.concat([train_data, train_target], axis=1)"
   ]
  },
  {
   "cell_type": "code",
   "execution_count": 10,
   "metadata": {},
   "outputs": [],
   "source": [
    "X_train, X_valid, y_train, y_valid = train_test_split(train_data_target, train_target_class, test_size=0.2, random_state=20)"
   ]
  },
  {
   "cell_type": "code",
   "execution_count": 11,
   "metadata": {},
   "outputs": [
    {
     "data": {
      "text/plain": [
       "4513"
      ]
     },
     "execution_count": 11,
     "metadata": {},
     "output_type": "execute_result"
    }
   ],
   "source": [
    "len(X_train)"
   ]
  },
  {
   "cell_type": "code",
   "execution_count": null,
   "metadata": {},
   "outputs": [],
   "source": []
  },
  {
   "cell_type": "code",
   "execution_count": 17,
   "metadata": {},
   "outputs": [
    {
     "name": "stderr",
     "output_type": "stream",
     "text": [
      "/usr/local/lib/python3.5/dist-packages/ipykernel_launcher.py:2: FutureWarning: reshape is deprecated and will raise in a subsequent release. Please use .values.reshape(...) instead\n",
      "  \n",
      "/usr/local/lib/python3.5/dist-packages/sklearn/utils/validation.py:578: DataConversionWarning: A column-vector y was passed when a 1d array was expected. Please change the shape of y to (n_samples, ), for example using ravel().\n",
      "  y = column_or_1d(y, warn=True)\n"
     ]
    }
   ],
   "source": [
    "sm = SMOTETomek()\n",
    "X_resampled, y_resampled = sm.fit_sample(X_train, y_train.reshape(-1,1))"
   ]
  },
  {
   "cell_type": "code",
   "execution_count": 18,
   "metadata": {},
   "outputs": [],
   "source": [
    "X_train = pd.DataFrame(X_resampled, columns= X_train.columns)\n",
    "y_train = pd.Series(y_resampled, name='Y')"
   ]
  },
  {
   "cell_type": "code",
   "execution_count": 19,
   "metadata": {},
   "outputs": [],
   "source": [
    "x_y = pd.concat([X_train, y_train], axis=1)"
   ]
  },
  {
   "cell_type": "code",
   "execution_count": 20,
   "metadata": {},
   "outputs": [],
   "source": [
    "high, normal = separate_high_normal(x_y)"
   ]
  },
  {
   "cell_type": "code",
   "execution_count": 24,
   "metadata": {},
   "outputs": [
    {
     "data": {
      "text/plain": [
       "4148"
      ]
     },
     "execution_count": 24,
     "metadata": {},
     "output_type": "execute_result"
    }
   ],
   "source": [
    "len(normal)"
   ]
  },
  {
   "cell_type": "code",
   "execution_count": 25,
   "metadata": {},
   "outputs": [
    {
     "name": "stdout",
     "output_type": "stream",
     "text": [
      "开始CV 5折训练...\n",
      "第0次训练...\n",
      "Training until validation scores don't improve for 100 rounds.\n",
      "[100]\tvalid_0's binary_logloss: 0.45623\n",
      "[200]\tvalid_0's binary_logloss: 0.348721\n",
      "[300]\tvalid_0's binary_logloss: 0.255673\n",
      "[400]\tvalid_0's binary_logloss: 0.203835\n",
      "[500]\tvalid_0's binary_logloss: 0.171151\n",
      "[600]\tvalid_0's binary_logloss: 0.150553\n",
      "[700]\tvalid_0's binary_logloss: 0.134498\n",
      "[800]\tvalid_0's binary_logloss: 0.123126\n",
      "[900]\tvalid_0's binary_logloss: 0.112939\n",
      "[1000]\tvalid_0's binary_logloss: 0.105394\n",
      "[1100]\tvalid_0's binary_logloss: 0.0992504\n",
      "[1200]\tvalid_0's binary_logloss: 0.0934813\n",
      "[1300]\tvalid_0's binary_logloss: 0.0885561\n",
      "[1400]\tvalid_0's binary_logloss: 0.0845685\n",
      "[1500]\tvalid_0's binary_logloss: 0.0812488\n",
      "[1600]\tvalid_0's binary_logloss: 0.0784726\n",
      "[1700]\tvalid_0's binary_logloss: 0.0763924\n",
      "[1800]\tvalid_0's binary_logloss: 0.0749584\n",
      "[1900]\tvalid_0's binary_logloss: 0.0736601\n",
      "[2000]\tvalid_0's binary_logloss: 0.0725968\n",
      "[2100]\tvalid_0's binary_logloss: 0.0715414\n",
      "[2200]\tvalid_0's binary_logloss: 0.0708885\n",
      "[2300]\tvalid_0's binary_logloss: 0.0704024\n",
      "[2400]\tvalid_0's binary_logloss: 0.0701181\n",
      "[2500]\tvalid_0's binary_logloss: 0.0697461\n",
      "[2600]\tvalid_0's binary_logloss: 0.0697438\n",
      "[2700]\tvalid_0's binary_logloss: 0.0694219\n",
      "[2800]\tvalid_0's binary_logloss: 0.0693167\n",
      "[2900]\tvalid_0's binary_logloss: 0.0693741\n",
      "Early stopping, best iteration is:\n",
      "[2808]\tvalid_0's binary_logloss: 0.0692816\n",
      "第1次训练...\n",
      "Training until validation scores don't improve for 100 rounds.\n",
      "[100]\tvalid_0's binary_logloss: 0.452697\n",
      "[200]\tvalid_0's binary_logloss: 0.340618\n",
      "[300]\tvalid_0's binary_logloss: 0.238057\n",
      "[400]\tvalid_0's binary_logloss: 0.191236\n",
      "[500]\tvalid_0's binary_logloss: 0.162328\n",
      "[600]\tvalid_0's binary_logloss: 0.144084\n",
      "[700]\tvalid_0's binary_logloss: 0.130328\n",
      "[800]\tvalid_0's binary_logloss: 0.120579\n",
      "[900]\tvalid_0's binary_logloss: 0.112074\n",
      "[1000]\tvalid_0's binary_logloss: 0.105766\n",
      "[1100]\tvalid_0's binary_logloss: 0.100941\n",
      "[1200]\tvalid_0's binary_logloss: 0.0968795\n",
      "[1300]\tvalid_0's binary_logloss: 0.0928932\n",
      "[1400]\tvalid_0's binary_logloss: 0.0900819\n",
      "[1500]\tvalid_0's binary_logloss: 0.0874492\n",
      "[1600]\tvalid_0's binary_logloss: 0.0855233\n",
      "[1700]\tvalid_0's binary_logloss: 0.0839126\n",
      "[1800]\tvalid_0's binary_logloss: 0.0828899\n",
      "[1900]\tvalid_0's binary_logloss: 0.081915\n",
      "[2000]\tvalid_0's binary_logloss: 0.0815716\n",
      "[2100]\tvalid_0's binary_logloss: 0.0812215\n",
      "[2200]\tvalid_0's binary_logloss: 0.0811629\n",
      "[2300]\tvalid_0's binary_logloss: 0.0809557\n",
      "[2400]\tvalid_0's binary_logloss: 0.0809098\n",
      "Early stopping, best iteration is:\n",
      "[2352]\tvalid_0's binary_logloss: 0.0808201\n",
      "第2次训练...\n",
      "Training until validation scores don't improve for 100 rounds.\n",
      "[100]\tvalid_0's binary_logloss: 0.453313\n",
      "[200]\tvalid_0's binary_logloss: 0.338029\n",
      "[300]\tvalid_0's binary_logloss: 0.251545\n",
      "[400]\tvalid_0's binary_logloss: 0.203051\n",
      "[500]\tvalid_0's binary_logloss: 0.172364\n",
      "[600]\tvalid_0's binary_logloss: 0.150554\n",
      "[700]\tvalid_0's binary_logloss: 0.135136\n",
      "[800]\tvalid_0's binary_logloss: 0.123933\n",
      "[900]\tvalid_0's binary_logloss: 0.114524\n",
      "[1000]\tvalid_0's binary_logloss: 0.107334\n",
      "[1100]\tvalid_0's binary_logloss: 0.101268\n",
      "[1200]\tvalid_0's binary_logloss: 0.0956936\n",
      "[1300]\tvalid_0's binary_logloss: 0.0916079\n",
      "[1400]\tvalid_0's binary_logloss: 0.0879628\n",
      "[1500]\tvalid_0's binary_logloss: 0.0852879\n",
      "[1600]\tvalid_0's binary_logloss: 0.0828116\n",
      "[1700]\tvalid_0's binary_logloss: 0.0810808\n",
      "[1800]\tvalid_0's binary_logloss: 0.07954\n",
      "[1900]\tvalid_0's binary_logloss: 0.0782197\n",
      "[2000]\tvalid_0's binary_logloss: 0.0773089\n",
      "[2100]\tvalid_0's binary_logloss: 0.0764077\n",
      "[2200]\tvalid_0's binary_logloss: 0.0762229\n",
      "[2300]\tvalid_0's binary_logloss: 0.0757739\n",
      "[2400]\tvalid_0's binary_logloss: 0.0754864\n",
      "[2500]\tvalid_0's binary_logloss: 0.0754409\n",
      "[2600]\tvalid_0's binary_logloss: 0.0752902\n",
      "[2700]\tvalid_0's binary_logloss: 0.0751348\n",
      "[2800]\tvalid_0's binary_logloss: 0.0751534\n",
      "Early stopping, best iteration is:\n",
      "[2754]\tvalid_0's binary_logloss: 0.0750558\n",
      "第3次训练...\n",
      "Training until validation scores don't improve for 100 rounds.\n",
      "[100]\tvalid_0's binary_logloss: 0.441612\n",
      "[200]\tvalid_0's binary_logloss: 0.330391\n",
      "[300]\tvalid_0's binary_logloss: 0.250881\n",
      "[400]\tvalid_0's binary_logloss: 0.190351\n",
      "[500]\tvalid_0's binary_logloss: 0.158673\n",
      "[600]\tvalid_0's binary_logloss: 0.136235\n",
      "[700]\tvalid_0's binary_logloss: 0.123521\n",
      "[800]\tvalid_0's binary_logloss: 0.114107\n",
      "[900]\tvalid_0's binary_logloss: 0.106663\n",
      "[1000]\tvalid_0's binary_logloss: 0.100158\n",
      "[1100]\tvalid_0's binary_logloss: 0.094602\n",
      "[1200]\tvalid_0's binary_logloss: 0.0901396\n",
      "[1300]\tvalid_0's binary_logloss: 0.086194\n",
      "[1400]\tvalid_0's binary_logloss: 0.0829999\n",
      "[1500]\tvalid_0's binary_logloss: 0.0801998\n",
      "[1600]\tvalid_0's binary_logloss: 0.0777916\n",
      "[1700]\tvalid_0's binary_logloss: 0.0758239\n",
      "[1800]\tvalid_0's binary_logloss: 0.0741318\n",
      "[1900]\tvalid_0's binary_logloss: 0.0727573\n",
      "[2000]\tvalid_0's binary_logloss: 0.0716284\n",
      "[2100]\tvalid_0's binary_logloss: 0.0710067\n",
      "[2200]\tvalid_0's binary_logloss: 0.0702913\n",
      "[2300]\tvalid_0's binary_logloss: 0.0697575\n",
      "[2400]\tvalid_0's binary_logloss: 0.0692888\n",
      "[2500]\tvalid_0's binary_logloss: 0.0689214\n",
      "[2600]\tvalid_0's binary_logloss: 0.0686285\n",
      "[2700]\tvalid_0's binary_logloss: 0.0684466\n",
      "[2800]\tvalid_0's binary_logloss: 0.0681497\n",
      "[2900]\tvalid_0's binary_logloss: 0.0680212\n",
      "[3000]\tvalid_0's binary_logloss: 0.067808\n",
      "[3100]\tvalid_0's binary_logloss: 0.0676693\n",
      "[3200]\tvalid_0's binary_logloss: 0.0675261\n",
      "[3300]\tvalid_0's binary_logloss: 0.0673188\n",
      "[3400]\tvalid_0's binary_logloss: 0.0672658\n",
      "[3500]\tvalid_0's binary_logloss: 0.067222\n",
      "[3600]\tvalid_0's binary_logloss: 0.0672257\n",
      "Early stopping, best iteration is:\n",
      "[3539]\tvalid_0's binary_logloss: 0.0671449\n",
      "第4次训练...\n",
      "Training until validation scores don't improve for 100 rounds.\n",
      "[100]\tvalid_0's binary_logloss: 0.446774\n",
      "[200]\tvalid_0's binary_logloss: 0.332776\n",
      "[300]\tvalid_0's binary_logloss: 0.242737\n",
      "[400]\tvalid_0's binary_logloss: 0.195491\n",
      "[500]\tvalid_0's binary_logloss: 0.164561\n",
      "[600]\tvalid_0's binary_logloss: 0.143981\n",
      "[700]\tvalid_0's binary_logloss: 0.129445\n",
      "[800]\tvalid_0's binary_logloss: 0.118756\n",
      "[900]\tvalid_0's binary_logloss: 0.110514\n",
      "[1000]\tvalid_0's binary_logloss: 0.103353\n",
      "[1100]\tvalid_0's binary_logloss: 0.0972068\n",
      "[1200]\tvalid_0's binary_logloss: 0.0919808\n",
      "[1300]\tvalid_0's binary_logloss: 0.0879905\n",
      "[1400]\tvalid_0's binary_logloss: 0.0843876\n",
      "[1500]\tvalid_0's binary_logloss: 0.0816688\n",
      "[1600]\tvalid_0's binary_logloss: 0.0790906\n",
      "[1700]\tvalid_0's binary_logloss: 0.0765364\n",
      "[1800]\tvalid_0's binary_logloss: 0.0749024\n",
      "[1900]\tvalid_0's binary_logloss: 0.0734073\n",
      "[2000]\tvalid_0's binary_logloss: 0.0723861\n",
      "[2100]\tvalid_0's binary_logloss: 0.0716146\n",
      "[2200]\tvalid_0's binary_logloss: 0.0710286\n",
      "[2300]\tvalid_0's binary_logloss: 0.0703873\n",
      "[2400]\tvalid_0's binary_logloss: 0.0698373\n",
      "[2500]\tvalid_0's binary_logloss: 0.0695682\n",
      "[2600]\tvalid_0's binary_logloss: 0.0691019\n",
      "[2700]\tvalid_0's binary_logloss: 0.0688716\n",
      "[2800]\tvalid_0's binary_logloss: 0.0685378\n",
      "[2900]\tvalid_0's binary_logloss: 0.0684232\n",
      "Early stopping, best iteration is:\n",
      "[2846]\tvalid_0's binary_logloss: 0.068366\n",
      "light_gbm_c_ k fold validation: 0.971793793619\n"
     ]
    }
   ],
   "source": [
    "lgb_y_valid, kf_lgb_mse = \\\n",
    "    k_fold_classifier(X_train, y_train, X_valid, ClassifierModelFactory.MODEL_LIGHET_GBM, cv=5)"
   ]
  },
  {
   "cell_type": "code",
   "execution_count": 38,
   "metadata": {},
   "outputs": [],
   "source": [
    "y_pred = logloss_to_class(lgb_y_valid, class_level=0.7)"
   ]
  },
  {
   "cell_type": "code",
   "execution_count": 39,
   "metadata": {},
   "outputs": [
    {
     "name": "stdout",
     "output_type": "stream",
     "text": [
      "             precision    recall  f1-score   support\n",
      "\n",
      "          0       0.93      0.99      0.96      1039\n",
      "          1       0.50      0.14      0.22        90\n",
      "\n",
      "avg / total       0.90      0.92      0.90      1129\n",
      "\n"
     ]
    }
   ],
   "source": [
    "print(classification_report(y_valid, y_pred))"
   ]
  },
  {
   "cell_type": "code",
   "execution_count": 40,
   "metadata": {},
   "outputs": [],
   "source": [
    "valid = pd.Series(y_valid, name='valid').reset_index(drop=True)\n",
    "pred = pd.Series(y_pred, name='pred').reset_index(drop=True)"
   ]
  },
  {
   "cell_type": "code",
   "execution_count": 41,
   "metadata": {},
   "outputs": [],
   "source": [
    "df = pd.DataFrame(valid)"
   ]
  },
  {
   "cell_type": "code",
   "execution_count": 42,
   "metadata": {},
   "outputs": [],
   "source": [
    "df['pred'] = pred"
   ]
  },
  {
   "cell_type": "code",
   "execution_count": 47,
   "metadata": {},
   "outputs": [],
   "source": [
    "indexs = df[(df['valid']==0).values & (df['pred']==1).values].index"
   ]
  },
  {
   "cell_type": "code",
   "execution_count": null,
   "metadata": {},
   "outputs": [],
   "source": []
  }
 ],
 "metadata": {
  "kernelspec": {
   "display_name": "Python 3",
   "language": "python",
   "name": "python3"
  },
  "language_info": {
   "codemirror_mode": {
    "name": "ipython",
    "version": 3
   },
   "file_extension": ".py",
   "mimetype": "text/x-python",
   "name": "python",
   "nbconvert_exporter": "python",
   "pygments_lexer": "ipython3",
   "version": "3.5.2"
  }
 },
 "nbformat": 4,
 "nbformat_minor": 2
}
