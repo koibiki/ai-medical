{
 "cells": [
  {
   "cell_type": "code",
   "execution_count": 1,
   "metadata": {},
   "outputs": [
    {
     "name": "stderr",
     "output_type": "stream",
     "text": [
      "/home/chengli/.local/lib/python3.5/site-packages/sklearn/cross_validation.py:41: DeprecationWarning: This module was deprecated in version 0.18 in favor of the model_selection module into which all the refactored classes and functions are moved. Also note that the interface of the new CV iterators are different from that of this module. This module will be removed in 0.20.\n",
      "  \"This module will be removed in 0.20.\", DeprecationWarning)\n",
      "/usr/local/lib/python3.5/dist-packages/h5py/__init__.py:36: FutureWarning: Conversion of the second argument of issubdtype from `float` to `np.floating` is deprecated. In future, it will be treated as `np.float64 == np.dtype(float).type`.\n",
      "  from ._conv import register_converters as _register_converters\n"
     ]
    }
   ],
   "source": [
    "import numpy as np\n",
    "import pandas as pd\n",
    "import matplotlib.pyplot as plt\n",
    "from scipy.spatial.distance import cdist\n",
    "from sklearn.cluster import KMeans\n",
    "from dateutil.parser import parse\n",
    "from sklearn.metrics import classification_report\n",
    "\n",
    "from imblearn.combine import SMOTETomek, SMOTEENN\n",
    "\n",
    "from feature_engineering.nan_stastics import nan_statics\n",
    "from feature_engineering.rank_feature_majority import rank_feature_majority_all, rank_feature_majority_train_valid_test\n",
    "from feature_engineering.segment_raw_data import segment_raw_data\n",
    "from feature_engineering.rank_feature import rank_feature, rank_feature_by_max, rank_feature_count\n",
    "from model_selection.classifier_model_factory import ClassifierModelFactory\n",
    "from model_selection.regressor_model_factory import RegressorModelFactory\n",
    "from model_selection.multi_classifier_model_factory import MultiClassifierModelFactory\n",
    "from sklearn.model_selection import train_test_split\n",
    "from sklearn.metrics import accuracy_score\n",
    "from sklearn.metrics import mean_squared_error\n",
    "from model_selection.cv import k_fold_regressor, k_fold_classifier, create_sample_k_fold_regressor\n",
    "from sampling.sample import sample_by_test_scale, separate_high_median_normal, separate_high_normal\n",
    "from utils import create_scale_feature, normalize_data_frame, delete_error_data, filtration, create_sample, logloss_to_class, softmax_to_class"
   ]
  },
  {
   "cell_type": "code",
   "execution_count": 2,
   "metadata": {},
   "outputs": [],
   "source": [
    "train = pd.read_csv('input/d_train_20180102.csv', encoding='gb2312')\n",
    "test = pd.read_csv('input/d_test_A_20180102.csv', encoding='gb2312')"
   ]
  },
  {
   "cell_type": "code",
   "execution_count": 3,
   "metadata": {},
   "outputs": [],
   "source": [
    "train = train[(train['血糖'] >= 7).values | (train['血糖'] <= 5.8).values]"
   ]
  },
  {
   "cell_type": "code",
   "execution_count": 4,
   "metadata": {},
   "outputs": [
    {
     "data": {
      "text/plain": [
       "(4763, 42)"
      ]
     },
     "execution_count": 4,
     "metadata": {},
     "output_type": "execute_result"
    }
   ],
   "source": [
    "train.shape"
   ]
  },
  {
   "cell_type": "code",
   "execution_count": 5,
   "metadata": {},
   "outputs": [],
   "source": [
    "train_data = train.iloc[:, 1:-1]\n",
    "train_target = train.iloc[:, -1]\n",
    "test_data = test.iloc[:, 1:]"
   ]
  },
  {
   "cell_type": "code",
   "execution_count": 6,
   "metadata": {},
   "outputs": [],
   "source": [
    "train_data['性别'] = train_data['性别'].apply(lambda x:1 if x == '男' else 0)\n",
    "test_data['性别'] = test_data['性别'].apply(lambda x:1 if x == '男' else 0)"
   ]
  },
  {
   "cell_type": "code",
   "execution_count": 7,
   "metadata": {},
   "outputs": [],
   "source": [
    "train_data['体检日期'] = (pd.to_datetime(train_data['体检日期']) - parse('2016-10-09')).dt.days\n",
    "test_data['体检日期'] = (pd.to_datetime(test_data['体检日期']) - parse('2016-10-09')).dt.days"
   ]
  },
  {
   "cell_type": "code",
   "execution_count": 8,
   "metadata": {},
   "outputs": [],
   "source": [
    "columns = train_data.columns\n",
    "str_columns = ['sex', 'age', 'date'] + ['f' + str(p) for p in range(len(columns)-3)]"
   ]
  },
  {
   "cell_type": "code",
   "execution_count": 9,
   "metadata": {},
   "outputs": [],
   "source": [
    "train_data.columns = str_columns\n",
    "test_data.columns = str_columns\n",
    "train_target.name = 'Y'\n",
    "train_target_class = train_target.apply(lambda x: 1 if x >= 7 else 0)"
   ]
  },
  {
   "cell_type": "code",
   "execution_count": 10,
   "metadata": {},
   "outputs": [],
   "source": [
    "def create_sum_feature(data):\n",
    "    new_data = data\n",
    "    columns = data.columns\n",
    "    for index in range(3, len(columns)-3):\n",
    "        for j in range(index + 1, len(columns)):\n",
    "            new_data.insert(new_data.shape[1], 'sum_' + columns[j] + '_' + columns[index], data.iloc[:, j] + data.iloc[:, index])\n",
    "    return new_data"
   ]
  },
  {
   "cell_type": "code",
   "execution_count": 11,
   "metadata": {},
   "outputs": [],
   "source": [
    "train_test = pd.concat([train_data, test_data], axis=0)\n",
    "train_test, factors = normalize_data_frame(train_test, start_index=2)\n",
    "train_data = train_test.iloc[:train_data.shape[0]]\n",
    "test_data = train_test.iloc[train_data.shape[0]:]"
   ]
  },
  {
   "cell_type": "code",
   "execution_count": 12,
   "metadata": {},
   "outputs": [],
   "source": [
    "train_data_create = create_sum_feature(train_data)\n",
    "test_data_create = create_sum_feature(test_data)"
   ]
  },
  {
   "cell_type": "code",
   "execution_count": 13,
   "metadata": {},
   "outputs": [
    {
     "name": "stderr",
     "output_type": "stream",
     "text": [
      "/usr/local/lib/python3.5/dist-packages/pandas/core/frame.py:3035: SettingWithCopyWarning: \n",
      "A value is trying to be set on a copy of a slice from a DataFrame\n",
      "\n",
      "See the caveats in the documentation: http://pandas.pydata.org/pandas-docs/stable/indexing.html#indexing-view-versus-copy\n",
      "  downcast=downcast, **kwargs)\n"
     ]
    }
   ],
   "source": [
    "train_data_create.fillna(-99, inplace=True)\n",
    "test_data_create.fillna(-99, inplace=True)"
   ]
  },
  {
   "cell_type": "code",
   "execution_count": 14,
   "metadata": {},
   "outputs": [],
   "source": [
    "train_data_target = pd.concat([train_data_create, train_target], axis=1)"
   ]
  },
  {
   "cell_type": "code",
   "execution_count": 15,
   "metadata": {},
   "outputs": [],
   "source": [
    "X_train, X_valid, y_train, y_valid = train_test_split(train_data_target, train_target_class, test_size=0.1, random_state=20)"
   ]
  },
  {
   "cell_type": "code",
   "execution_count": 16,
   "metadata": {},
   "outputs": [
    {
     "data": {
      "text/plain": [
       "4286"
      ]
     },
     "execution_count": 16,
     "metadata": {},
     "output_type": "execute_result"
    }
   ],
   "source": [
    "len(X_train)"
   ]
  },
  {
   "cell_type": "code",
   "execution_count": null,
   "metadata": {},
   "outputs": [],
   "source": []
  },
  {
   "cell_type": "code",
   "execution_count": 17,
   "metadata": {},
   "outputs": [
    {
     "name": "stderr",
     "output_type": "stream",
     "text": [
      "/usr/local/lib/python3.5/dist-packages/ipykernel_launcher.py:2: FutureWarning: reshape is deprecated and will raise in a subsequent release. Please use .values.reshape(...) instead\n",
      "  \n",
      "/home/chengli/.local/lib/python3.5/site-packages/sklearn/utils/validation.py:578: DataConversionWarning: A column-vector y was passed when a 1d array was expected. Please change the shape of y to (n_samples, ), for example using ravel().\n",
      "  y = column_or_1d(y, warn=True)\n"
     ]
    }
   ],
   "source": [
    "sm = SMOTETomek()\n",
    "X_resampled, y_resampled = sm.fit_sample(X_train, y_train.reshape(-1,1))"
   ]
  },
  {
   "cell_type": "code",
   "execution_count": 18,
   "metadata": {},
   "outputs": [],
   "source": [
    "X_train = pd.DataFrame(X_resampled, columns= X_train.columns)\n",
    "y_train = pd.Series(y_resampled, name='Y')"
   ]
  },
  {
   "cell_type": "code",
   "execution_count": 19,
   "metadata": {},
   "outputs": [],
   "source": [
    "x_y = pd.concat([X_train, y_train], axis=1)"
   ]
  },
  {
   "cell_type": "code",
   "execution_count": 20,
   "metadata": {},
   "outputs": [],
   "source": [
    "high, normal = separate_high_normal(x_y)"
   ]
  },
  {
   "cell_type": "code",
   "execution_count": 21,
   "metadata": {},
   "outputs": [],
   "source": [
    "X_train_data = X_train.iloc[:, :-1]\n",
    "X_valid_data = X_valid.iloc[:, :-1]"
   ]
  },
  {
   "cell_type": "code",
   "execution_count": 22,
   "metadata": {},
   "outputs": [
    {
     "name": "stdout",
     "output_type": "stream",
     "text": [
      "开始CV5折训练...\n",
      "第0次训练...\n",
      "Training until validation scores don't improve for 300 rounds.\n",
      "[300]\tvalid_0's binary_logloss: 0.265893\n",
      "[600]\tvalid_0's binary_logloss: 0.165439\n",
      "[900]\tvalid_0's binary_logloss: 0.127267\n",
      "[1200]\tvalid_0's binary_logloss: 0.109913\n",
      "[1500]\tvalid_0's binary_logloss: 0.103475\n",
      "[1800]\tvalid_0's binary_logloss: 0.102806\n",
      "[2100]\tvalid_0's binary_logloss: 0.102533\n",
      "Early stopping, best iteration is:\n",
      "[1879]\tvalid_0's binary_logloss: 0.102416\n",
      "第1次训练...\n",
      "Training until validation scores don't improve for 300 rounds.\n",
      "[300]\tvalid_0's binary_logloss: 0.25169\n",
      "[600]\tvalid_0's binary_logloss: 0.151938\n",
      "[900]\tvalid_0's binary_logloss: 0.112359\n",
      "[1200]\tvalid_0's binary_logloss: 0.0934022\n",
      "[1500]\tvalid_0's binary_logloss: 0.0851355\n",
      "[1800]\tvalid_0's binary_logloss: 0.081891\n",
      "[2100]\tvalid_0's binary_logloss: 0.0815079\n",
      "[2400]\tvalid_0's binary_logloss: 0.0812476\n",
      "[2700]\tvalid_0's binary_logloss: 0.0809976\n",
      "[3000]\tvalid_0's binary_logloss: 0.0807586\n",
      "[3300]\tvalid_0's binary_logloss: 0.0804118\n",
      "[3600]\tvalid_0's binary_logloss: 0.0804952\n",
      "Early stopping, best iteration is:\n",
      "[3422]\tvalid_0's binary_logloss: 0.0803449\n",
      "第2次训练...\n",
      "Training until validation scores don't improve for 300 rounds.\n",
      "[300]\tvalid_0's binary_logloss: 0.256928\n",
      "[600]\tvalid_0's binary_logloss: 0.150426\n",
      "[900]\tvalid_0's binary_logloss: 0.111292\n",
      "[1200]\tvalid_0's binary_logloss: 0.0911023\n",
      "[1500]\tvalid_0's binary_logloss: 0.0821832\n",
      "[1800]\tvalid_0's binary_logloss: 0.079865\n",
      "[2100]\tvalid_0's binary_logloss: 0.0796989\n",
      "[2400]\tvalid_0's binary_logloss: 0.0796707\n",
      "Early stopping, best iteration is:\n",
      "[2281]\tvalid_0's binary_logloss: 0.0795342\n",
      "第3次训练...\n",
      "Training until validation scores don't improve for 300 rounds.\n",
      "[300]\tvalid_0's binary_logloss: 0.253067\n",
      "[600]\tvalid_0's binary_logloss: 0.149304\n",
      "[900]\tvalid_0's binary_logloss: 0.109869\n",
      "[1200]\tvalid_0's binary_logloss: 0.0911735\n",
      "[1500]\tvalid_0's binary_logloss: 0.0828768\n",
      "[1800]\tvalid_0's binary_logloss: 0.0797549\n",
      "[2100]\tvalid_0's binary_logloss: 0.0789969\n",
      "[2400]\tvalid_0's binary_logloss: 0.0781497\n",
      "[2700]\tvalid_0's binary_logloss: 0.0777169\n",
      "[3000]\tvalid_0's binary_logloss: 0.0771528\n",
      "[3300]\tvalid_0's binary_logloss: 0.0769159\n",
      "[3600]\tvalid_0's binary_logloss: 0.0766427\n",
      "[3900]\tvalid_0's binary_logloss: 0.0763991\n",
      "Early stopping, best iteration is:\n",
      "[3852]\tvalid_0's binary_logloss: 0.076328\n",
      "第4次训练...\n",
      "Training until validation scores don't improve for 300 rounds.\n",
      "[300]\tvalid_0's binary_logloss: 0.257264\n",
      "[600]\tvalid_0's binary_logloss: 0.150263\n",
      "[900]\tvalid_0's binary_logloss: 0.110166\n",
      "[1200]\tvalid_0's binary_logloss: 0.090192\n",
      "[1500]\tvalid_0's binary_logloss: 0.0793999\n",
      "[1800]\tvalid_0's binary_logloss: 0.0762934\n",
      "[2100]\tvalid_0's binary_logloss: 0.0741926\n",
      "[2400]\tvalid_0's binary_logloss: 0.0729728\n",
      "[2700]\tvalid_0's binary_logloss: 0.0720587\n",
      "[3000]\tvalid_0's binary_logloss: 0.0713712\n",
      "[3300]\tvalid_0's binary_logloss: 0.0708655\n",
      "[3600]\tvalid_0's binary_logloss: 0.0703592\n",
      "[3900]\tvalid_0's binary_logloss: 0.0702316\n",
      "[4200]\tvalid_0's binary_logloss: 0.0698914\n",
      "[4500]\tvalid_0's binary_logloss: 0.0695467\n",
      "[4800]\tvalid_0's binary_logloss: 0.0693349\n",
      "[5100]\tvalid_0's binary_logloss: 0.0691345\n",
      "[5400]\tvalid_0's binary_logloss: 0.0690247\n",
      "[5700]\tvalid_0's binary_logloss: 0.0688922\n",
      "[6000]\tvalid_0's binary_logloss: 0.0687565\n",
      "[6300]\tvalid_0's binary_logloss: 0.0687289\n",
      "[6600]\tvalid_0's binary_logloss: 0.0685866\n",
      "[6900]\tvalid_0's binary_logloss: 0.0684314\n",
      "[7200]\tvalid_0's binary_logloss: 0.0683951\n",
      "[7500]\tvalid_0's binary_logloss: 0.0683726\n",
      "Early stopping, best iteration is:\n",
      "[7358]\tvalid_0's binary_logloss: 0.0683006\n",
      "light_gbm_c_ k fold validation: 0.9674682938003707\n"
     ]
    }
   ],
   "source": [
    "lgb_y_valid, kf_lgb_mse = \\\n",
    "    k_fold_classifier(X_train_data, y_train, X_valid_data, ClassifierModelFactory.MODEL_LIGHET_GBM, cv=5)"
   ]
  },
  {
   "cell_type": "code",
   "execution_count": 31,
   "metadata": {},
   "outputs": [],
   "source": [
    "y_pred = logloss_to_class(lgb_y_valid, class_level=0.65)"
   ]
  },
  {
   "cell_type": "code",
   "execution_count": 32,
   "metadata": {},
   "outputs": [
    {
     "name": "stdout",
     "output_type": "stream",
     "text": [
      "             precision    recall  f1-score   support\n",
      "\n",
      "          0       0.93      0.98      0.95       431\n",
      "          1       0.57      0.28      0.38        46\n",
      "\n",
      "avg / total       0.89      0.91      0.90       477\n",
      "\n"
     ]
    }
   ],
   "source": [
    "print(classification_report(y_valid, y_pred))"
   ]
  },
  {
   "cell_type": "code",
   "execution_count": 25,
   "metadata": {},
   "outputs": [],
   "source": [
    "valid = pd.Series(y_valid, name='valid').reset_index(drop=True)\n",
    "pred = pd.Series(y_pred, name='pred').reset_index(drop=True)"
   ]
  },
  {
   "cell_type": "code",
   "execution_count": 26,
   "metadata": {},
   "outputs": [],
   "source": [
    "df = pd.DataFrame(valid)"
   ]
  },
  {
   "cell_type": "code",
   "execution_count": 27,
   "metadata": {},
   "outputs": [],
   "source": [
    "df['pred'] = pred"
   ]
  },
  {
   "cell_type": "code",
   "execution_count": 28,
   "metadata": {},
   "outputs": [],
   "source": [
    "indexs = df[(df['valid']==0).values & (df['pred']==1).values].index"
   ]
  },
  {
   "cell_type": "code",
   "execution_count": null,
   "metadata": {},
   "outputs": [],
   "source": []
  },
  {
   "cell_type": "code",
   "execution_count": null,
   "metadata": {},
   "outputs": [],
   "source": []
  },
  {
   "cell_type": "code",
   "execution_count": null,
   "metadata": {},
   "outputs": [],
   "source": []
  },
  {
   "cell_type": "code",
   "execution_count": null,
   "metadata": {},
   "outputs": [],
   "source": []
  },
  {
   "cell_type": "code",
   "execution_count": null,
   "metadata": {},
   "outputs": [],
   "source": []
  },
  {
   "cell_type": "code",
   "execution_count": null,
   "metadata": {},
   "outputs": [],
   "source": []
  },
  {
   "cell_type": "code",
   "execution_count": null,
   "metadata": {},
   "outputs": [],
   "source": []
  },
  {
   "cell_type": "code",
   "execution_count": null,
   "metadata": {},
   "outputs": [],
   "source": []
  }
 ],
 "metadata": {
  "kernelspec": {
   "display_name": "Python 3",
   "language": "python",
   "name": "python3"
  },
  "language_info": {
   "codemirror_mode": {
    "name": "ipython",
    "version": 3
   },
   "file_extension": ".py",
   "mimetype": "text/x-python",
   "name": "python",
   "nbconvert_exporter": "python",
   "pygments_lexer": "ipython3",
   "version": "3.5.2"
  }
 },
 "nbformat": 4,
 "nbformat_minor": 2
}
