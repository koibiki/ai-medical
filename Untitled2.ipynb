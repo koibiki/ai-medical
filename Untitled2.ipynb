{
 "cells": [
  {
   "cell_type": "code",
   "execution_count": 1,
   "metadata": {},
   "outputs": [
    {
     "name": "stderr",
     "output_type": "stream",
     "text": [
      "/usr/local/lib/python3.5/dist-packages/sklearn/cross_validation.py:41: DeprecationWarning: This module was deprecated in version 0.18 in favor of the model_selection module into which all the refactored classes and functions are moved. Also note that the interface of the new CV iterators are different from that of this module. This module will be removed in 0.20.\n",
      "  \"This module will be removed in 0.20.\", DeprecationWarning)\n"
     ]
    }
   ],
   "source": [
    "import numpy as np\n",
    "import pandas as pd\n",
    "%matplotlib inline\n",
    "import matplotlib.pyplot as plt\n",
    "\n",
    "from feature_engineering.segment_raw_data import segment_raw_data\n",
    "from feature_engineering.rank_feature import rank_feature, rank_feature_by_max, rank_feature_count\n",
    "from model_selection.classifier_model_factory import ClassifierModelFactory\n",
    "from model_selection.regressor_model_factory import RegressorModelFactory\n",
    "from sklearn.model_selection import train_test_split\n",
    "from sklearn.metrics import accuracy_score\n",
    "from sklearn.metrics import mean_squared_error\n",
    "from model_selection.cv import k_fold_regressor, balance_k_fold_regressor\n",
    "from utils import create_scale_feature\n",
    "from sampling.sample import separate_high_median_normal"
   ]
  },
  {
   "cell_type": "code",
   "execution_count": 2,
   "metadata": {},
   "outputs": [],
   "source": [
    "train = pd.read_csv('input/d_train_20180102.csv', encoding='gb2312')\n",
    "test = pd.read_csv('input/d_test_A_20180102.csv', encoding='gb2312')"
   ]
  },
  {
   "cell_type": "code",
   "execution_count": 3,
   "metadata": {},
   "outputs": [],
   "source": [
    "train_data = train.iloc[:, 1:-1]\n",
    "train_target = train.iloc[:, -1]\n",
    "# train_target_class = train_target.apply()\n",
    "test_data = test.iloc[:, 1:]"
   ]
  },
  {
   "cell_type": "code",
   "execution_count": 4,
   "metadata": {},
   "outputs": [],
   "source": [
    "train_data['性别'] = train_data['性别'].map({'男': 1, '女': 0})\n",
    "test_data['性别'] = test_data['性别'].map({'男': 1, '女': 0})"
   ]
  },
  {
   "cell_type": "code",
   "execution_count": 12,
   "metadata": {},
   "outputs": [
    {
     "name": "stdout",
     "output_type": "stream",
     "text": [
      "<class 'pandas.core.frame.DataFrame'>\n",
      "RangeIndex: 5642 entries, 0 to 5641\n",
      "Data columns (total 40 columns):\n",
      "性别             5641 non-null float64\n",
      "年龄             5642 non-null int64\n",
      "体检日期           5642 non-null object\n",
      "*天门冬氨酸氨基转换酶    4421 non-null float64\n",
      "*丙氨酸氨基转换酶      4421 non-null float64\n",
      "*碱性磷酸酶         4421 non-null float64\n",
      "*r-谷氨酰基转换酶     4421 non-null float64\n",
      "*总蛋白           4421 non-null float64\n",
      "白蛋白            4421 non-null float64\n",
      "*球蛋白           4421 non-null float64\n",
      "白球比例           4421 non-null float64\n",
      "甘油三酯           4423 non-null float64\n",
      "总胆固醇           4423 non-null float64\n",
      "高密度脂蛋白胆固醇      4423 non-null float64\n",
      "低密度脂蛋白胆固醇      4423 non-null float64\n",
      "尿素             4264 non-null float64\n",
      "肌酐             4264 non-null float64\n",
      "尿酸             4264 non-null float64\n",
      "乙肝表面抗原         1363 non-null float64\n",
      "乙肝表面抗体         1363 non-null float64\n",
      "乙肝e抗原          1363 non-null float64\n",
      "乙肝e抗体          1363 non-null float64\n",
      "乙肝核心抗体         1363 non-null float64\n",
      "白细胞计数          5626 non-null float64\n",
      "红细胞计数          5626 non-null float64\n",
      "血红蛋白           5626 non-null float64\n",
      "红细胞压积          5626 non-null float64\n",
      "红细胞平均体积        5626 non-null float64\n",
      "红细胞平均血红蛋白量     5626 non-null float64\n",
      "红细胞平均血红蛋白浓度    5626 non-null float64\n",
      "红细胞体积分布宽度      5626 non-null float64\n",
      "血小板计数          5626 non-null float64\n",
      "血小板平均体积        5619 non-null float64\n",
      "血小板体积分布宽度      5619 non-null float64\n",
      "血小板比积          5619 non-null float64\n",
      "中性粒细胞%         5626 non-null float64\n",
      "淋巴细胞%          5626 non-null float64\n",
      "单核细胞%          5626 non-null float64\n",
      "嗜酸细胞%          5626 non-null float64\n",
      "嗜碱细胞%          5626 non-null float64\n",
      "dtypes: float64(38), int64(1), object(1)\n",
      "memory usage: 1.7+ MB\n"
     ]
    }
   ],
   "source": [
    "train_data.info()"
   ]
  },
  {
   "cell_type": "code",
   "execution_count": 5,
   "metadata": {},
   "outputs": [
    {
     "data": {
      "text/plain": [
       "Index(['性别', '年龄', '体检日期', '*天门冬氨酸氨基转换酶', '*丙氨酸氨基转换酶', '*碱性磷酸酶', '*r-谷氨酰基转换酶',\n",
       "       '*总蛋白', '白蛋白', '*球蛋白', '白球比例', '甘油三酯', '总胆固醇', '高密度脂蛋白胆固醇', '低密度脂蛋白胆固醇',\n",
       "       '尿素', '肌酐', '尿酸', '乙肝表面抗原', '乙肝表面抗体', '乙肝e抗原', '乙肝e抗体', '乙肝核心抗体',\n",
       "       '白细胞计数', '红细胞计数', '血红蛋白', '红细胞压积', '红细胞平均体积', '红细胞平均血红蛋白量',\n",
       "       '红细胞平均血红蛋白浓度', '红细胞体积分布宽度', '血小板计数', '血小板平均体积', '血小板体积分布宽度', '血小板比积',\n",
       "       '中性粒细胞%', '淋巴细胞%', '单核细胞%', '嗜酸细胞%', '嗜碱细胞%'],\n",
       "      dtype='object')"
      ]
     },
     "execution_count": 5,
     "metadata": {},
     "output_type": "execute_result"
    }
   ],
   "source": [
    "train_data.columns"
   ]
  },
  {
   "cell_type": "code",
   "execution_count": 35,
   "metadata": {},
   "outputs": [
    {
     "data": {
      "text/plain": [
       "性别                      1\n",
       "年龄                     55\n",
       "体检日期           21/09/2017\n",
       "*天门冬氨酸氨基转换酶         37.32\n",
       "*丙氨酸氨基转换酶           40.03\n",
       "*碱性磷酸酶              88.49\n",
       "*r-谷氨酰基转换酶          25.15\n",
       "*总蛋白                74.17\n",
       "白蛋白                 41.63\n",
       "*球蛋白                32.54\n",
       "白球比例                 1.28\n",
       "甘油三酯                 1.32\n",
       "总胆固醇                 5.92\n",
       "高密度脂蛋白胆固醇            1.28\n",
       "低密度脂蛋白胆固醇             4.2\n",
       "尿素                   6.31\n",
       "肌酐                  92.16\n",
       "尿酸                 344.73\n",
       "乙肝表面抗原                NaN\n",
       "乙肝表面抗体                NaN\n",
       "乙肝e抗原                 NaN\n",
       "乙肝e抗体                 NaN\n",
       "乙肝核心抗体                NaN\n",
       "白细胞计数                5.78\n",
       "红细胞计数                 4.9\n",
       "血红蛋白                  158\n",
       "红细胞压积               0.448\n",
       "红细胞平均体积              91.4\n",
       "红细胞平均血红蛋白量           32.2\n",
       "红细胞平均血红蛋白浓度           353\n",
       "红细胞体积分布宽度            12.5\n",
       "血小板计数                 282\n",
       "血小板平均体积              10.5\n",
       "血小板体积分布宽度              13\n",
       "血小板比积                 0.3\n",
       "中性粒细胞%               52.8\n",
       "淋巴细胞%                36.9\n",
       "单核细胞%                 6.6\n",
       "嗜酸细胞%                 2.8\n",
       "嗜碱细胞%                 0.9\n",
       "delta胆固醇             0.44\n",
       "血小板总体积               2961\n",
       "红细胞总体积             447.86\n",
       "白蛋白比例            0.561278\n",
       "球蛋白比例            0.438722\n",
       "Name: 7, dtype: object"
      ]
     },
     "execution_count": 35,
     "metadata": {},
     "output_type": "execute_result"
    }
   ],
   "source": [
    "train_data.iloc[7]"
   ]
  },
  {
   "cell_type": "code",
   "execution_count": 19,
   "metadata": {},
   "outputs": [],
   "source": [
    "train_data = train_data.assign(delta胆固醇 = train_data['总胆固醇'] - train_data['高密度脂蛋白胆固醇'] - train_data['低密度脂蛋白胆固醇'])"
   ]
  },
  {
   "cell_type": "code",
   "execution_count": 20,
   "metadata": {},
   "outputs": [],
   "source": [
    "train_data = train_data.assign(血小板总体积 = train_data['血小板计数'] * train_data['血小板平均体积'])"
   ]
  },
  {
   "cell_type": "code",
   "execution_count": 22,
   "metadata": {},
   "outputs": [],
   "source": [
    "train_data = train_data.assign(红细胞总体积 = train_data['红细胞计数'] * train_data['红细胞平均体积'])"
   ]
  },
  {
   "cell_type": "code",
   "execution_count": 33,
   "metadata": {},
   "outputs": [],
   "source": [
    "train_data = train_data.assign(白蛋白比例 = train_data['白蛋白'] / train_data['*总蛋白'])"
   ]
  },
  {
   "cell_type": "code",
   "execution_count": 34,
   "metadata": {},
   "outputs": [],
   "source": [
    "train_data = train_data.assign(球蛋白比例 = train_data['*球蛋白'] / train_data['*总蛋白'])"
   ]
  },
  {
   "cell_type": "code",
   "execution_count": 27,
   "metadata": {},
   "outputs": [
    {
     "data": {
      "text/plain": [
       "0       0.031386\n",
       "1       0.018809\n",
       "2       0.019751\n",
       "3       0.017024\n",
       "4       0.016297\n",
       "5       0.018635\n",
       "6       0.024512\n",
       "7       0.017376\n",
       "8       0.017964\n",
       "9       0.019474\n",
       "10      0.027921\n",
       "11      0.018764\n",
       "12      0.021928\n",
       "13      0.013879\n",
       "14      0.013634\n",
       "15      0.010566\n",
       "16      0.016337\n",
       "17      0.024297\n",
       "18      0.019489\n",
       "19      0.029534\n",
       "20      0.023906\n",
       "21      0.031627\n",
       "22      0.005797\n",
       "23      0.023878\n",
       "24      0.023592\n",
       "25      0.016724\n",
       "26      0.019583\n",
       "27      0.025022\n",
       "28      0.025075\n",
       "29      0.020769\n",
       "          ...   \n",
       "5612    0.016109\n",
       "5613    0.018467\n",
       "5614    0.016810\n",
       "5615    0.020512\n",
       "5616    0.015831\n",
       "5617    0.020495\n",
       "5618    0.018400\n",
       "5619    0.020039\n",
       "5620    0.029867\n",
       "5621    0.029891\n",
       "5622    0.022650\n",
       "5623    0.021339\n",
       "5624    0.013668\n",
       "5625    0.013953\n",
       "5626    0.015559\n",
       "5627    0.019654\n",
       "5628    0.034938\n",
       "5629    0.019059\n",
       "5630    0.019250\n",
       "5631    0.020310\n",
       "5632    0.022564\n",
       "5633    0.021200\n",
       "5634    0.020282\n",
       "5635    0.018514\n",
       "5636    0.023556\n",
       "5637    0.022500\n",
       "5638    0.021524\n",
       "5639    0.015139\n",
       "5640    0.020955\n",
       "5641    0.013569\n",
       "Length: 5642, dtype: float64"
      ]
     },
     "execution_count": 27,
     "metadata": {},
     "output_type": "execute_result"
    }
   ],
   "source": [
    "train_data['红细胞计数']/train_data['血小板计数']"
   ]
  },
  {
   "cell_type": "code",
   "execution_count": 8,
   "metadata": {},
   "outputs": [],
   "source": [
    "describe = train_data.describe()"
   ]
  },
  {
   "cell_type": "code",
   "execution_count": 21,
   "metadata": {},
   "outputs": [
    {
     "data": {
      "text/plain": [
       "count    5626.000000\n",
       "mean       12.737736\n",
       "std         1.001300\n",
       "min        10.900000\n",
       "25%        12.200000\n",
       "50%        12.600000\n",
       "75%        13.000000\n",
       "max        23.800000\n",
       "Name: 红细胞体积分布宽度, dtype: float64"
      ]
     },
     "execution_count": 21,
     "metadata": {},
     "output_type": "execute_result"
    }
   ],
   "source": []
  },
  {
   "cell_type": "code",
   "execution_count": null,
   "metadata": {},
   "outputs": [],
   "source": []
  },
  {
   "cell_type": "code",
   "execution_count": null,
   "metadata": {},
   "outputs": [],
   "source": []
  },
  {
   "cell_type": "code",
   "execution_count": null,
   "metadata": {},
   "outputs": [],
   "source": []
  },
  {
   "cell_type": "code",
   "execution_count": 6,
   "metadata": {},
   "outputs": [],
   "source": [
    "train_data = train_data.drop(['体检日期'], axis=1)\n",
    "test_data = test_data.drop(['体检日期'], axis=1)"
   ]
  },
  {
   "cell_type": "code",
   "execution_count": 7,
   "metadata": {},
   "outputs": [],
   "source": [
    "# train_data.fillna(train_data.median(axis=0), inplace=True)\n",
    "# test_data.fillna(test_data.median(axis=0), inplace=True)"
   ]
  },
  {
   "cell_type": "code",
   "execution_count": 8,
   "metadata": {},
   "outputs": [],
   "source": [
    "columns = train_data.columns\n",
    "str_columns = ['sex', 'age'] + ['f' + str(p) for p in range(len(columns)-2)]"
   ]
  },
  {
   "cell_type": "code",
   "execution_count": 13,
   "metadata": {},
   "outputs": [],
   "source": [
    "# train_data.columns = str_columns\n",
    "# test_data.columns = str_columns\n",
    "train_target.name = 'Y'"
   ]
  },
  {
   "cell_type": "code",
   "execution_count": 14,
   "metadata": {},
   "outputs": [],
   "source": [
    "scale_train_data = train_data"
   ]
  },
  {
   "cell_type": "code",
   "execution_count": 15,
   "metadata": {},
   "outputs": [],
   "source": [
    "scale_train_target = pd.concat([scale_train_data, train_target], axis=1)"
   ]
  },
  {
   "cell_type": "code",
   "execution_count": 16,
   "metadata": {},
   "outputs": [],
   "source": [
    "high, median, normal = separate_high_median_normal(scale_train_target)"
   ]
  },
  {
   "cell_type": "code",
   "execution_count": 17,
   "metadata": {},
   "outputs": [
    {
     "name": "stdout",
     "output_type": "stream",
     "text": [
      "<class 'pandas.core.frame.DataFrame'>\n",
      "Int64Index: 458 entries, 16 to 5627\n",
      "Data columns (total 40 columns):\n",
      "sex    458 non-null float64\n",
      "age    458 non-null int64\n",
      "f0     393 non-null float64\n",
      "f1     393 non-null float64\n",
      "f2     393 non-null float64\n",
      "f3     393 non-null float64\n",
      "f4     393 non-null float64\n",
      "f5     393 non-null float64\n",
      "f6     393 non-null float64\n",
      "f7     393 non-null float64\n",
      "f8     393 non-null float64\n",
      "f9     393 non-null float64\n",
      "f10    393 non-null float64\n",
      "f11    393 non-null float64\n",
      "f12    370 non-null float64\n",
      "f13    370 non-null float64\n",
      "f14    370 non-null float64\n",
      "f15    139 non-null float64\n",
      "f16    139 non-null float64\n",
      "f17    139 non-null float64\n",
      "f18    139 non-null float64\n",
      "f19    139 non-null float64\n",
      "f20    456 non-null float64\n",
      "f21    456 non-null float64\n",
      "f22    456 non-null float64\n",
      "f23    456 non-null float64\n",
      "f24    456 non-null float64\n",
      "f25    456 non-null float64\n",
      "f26    456 non-null float64\n",
      "f27    456 non-null float64\n",
      "f28    456 non-null float64\n",
      "f29    456 non-null float64\n",
      "f30    456 non-null float64\n",
      "f31    456 non-null float64\n",
      "f32    456 non-null float64\n",
      "f33    456 non-null float64\n",
      "f34    456 non-null float64\n",
      "f35    456 non-null float64\n",
      "f36    456 non-null float64\n",
      "Y      458 non-null float64\n",
      "dtypes: float64(39), int64(1)\n",
      "memory usage: 146.7 KB\n"
     ]
    }
   ],
   "source": [
    "high.info()"
   ]
  },
  {
   "cell_type": "code",
   "execution_count": 18,
   "metadata": {},
   "outputs": [
    {
     "name": "stdout",
     "output_type": "stream",
     "text": [
      "<class 'pandas.core.frame.DataFrame'>\n",
      "Int64Index: 4714 entries, 0 to 5641\n",
      "Data columns (total 40 columns):\n",
      "sex    4713 non-null float64\n",
      "age    4714 non-null int64\n",
      "f0     3638 non-null float64\n",
      "f1     3638 non-null float64\n",
      "f2     3638 non-null float64\n",
      "f3     3638 non-null float64\n",
      "f4     3638 non-null float64\n",
      "f5     3638 non-null float64\n",
      "f6     3638 non-null float64\n",
      "f7     3638 non-null float64\n",
      "f8     3640 non-null float64\n",
      "f9     3640 non-null float64\n",
      "f10    3640 non-null float64\n",
      "f11    3640 non-null float64\n",
      "f12    3530 non-null float64\n",
      "f13    3530 non-null float64\n",
      "f14    3530 non-null float64\n",
      "f15    1079 non-null float64\n",
      "f16    1079 non-null float64\n",
      "f17    1079 non-null float64\n",
      "f18    1079 non-null float64\n",
      "f19    1079 non-null float64\n",
      "f20    4702 non-null float64\n",
      "f21    4702 non-null float64\n",
      "f22    4702 non-null float64\n",
      "f23    4702 non-null float64\n",
      "f24    4702 non-null float64\n",
      "f25    4702 non-null float64\n",
      "f26    4702 non-null float64\n",
      "f27    4702 non-null float64\n",
      "f28    4702 non-null float64\n",
      "f29    4695 non-null float64\n",
      "f30    4695 non-null float64\n",
      "f31    4695 non-null float64\n",
      "f32    4702 non-null float64\n",
      "f33    4702 non-null float64\n",
      "f34    4702 non-null float64\n",
      "f35    4702 non-null float64\n",
      "f36    4702 non-null float64\n",
      "Y      4714 non-null float64\n",
      "dtypes: float64(39), int64(1)\n",
      "memory usage: 1.5 MB\n"
     ]
    }
   ],
   "source": [
    "normal.info()"
   ]
  },
  {
   "cell_type": "code",
   "execution_count": 13,
   "metadata": {},
   "outputs": [],
   "source": [
    "high_describe = high.describe()\n",
    "median_describe = median.describe()\n",
    "normal_describe = normal.describe()\n",
    "high_median = high_describe.median()\n",
    "median_median = median_describe.median()\n",
    "normal_median = normal_describe.median()"
   ]
  },
  {
   "cell_type": "code",
   "execution_count": 14,
   "metadata": {},
   "outputs": [
    {
     "data": {
      "text/plain": [
       "(8, 40)"
      ]
     },
     "execution_count": 14,
     "metadata": {},
     "output_type": "execute_result"
    }
   ],
   "source": [
    "high_describe.shape"
   ]
  },
  {
   "cell_type": "code",
   "execution_count": 15,
   "metadata": {},
   "outputs": [
    {
     "data": {
      "text/plain": [
       "1.7563522918010763"
      ]
     },
     "execution_count": 15,
     "metadata": {},
     "output_type": "execute_result"
    }
   ],
   "source": [
    "high['sex'].describe().median()/normal['sex'].describe().median()"
   ]
  },
  {
   "cell_type": "code",
   "execution_count": 16,
   "metadata": {},
   "outputs": [
    {
     "data": {
      "text/plain": [
       "count    4714.000000\n",
       "mean       43.950148\n",
       "std        12.520277\n",
       "min         3.000000\n",
       "25%        34.000000\n",
       "50%        43.000000\n",
       "75%        53.000000\n",
       "max        93.000000\n",
       "Name: age, dtype: float64"
      ]
     },
     "execution_count": 16,
     "metadata": {},
     "output_type": "execute_result"
    }
   ],
   "source": [
    "normal['age'].describe()"
   ]
  },
  {
   "cell_type": "code",
   "execution_count": 17,
   "metadata": {},
   "outputs": [
    {
     "data": {
      "text/plain": [
       "array([ 1.75635229,  1.27184758,  1.11291225,  1.38549401,  1.14328935,\n",
       "        1.44168222,  1.00392036,  0.99964882,  1.01937463,  0.98470454,\n",
       "        1.94163394,  1.07578355,  0.92559994,  1.11310819,  1.12119092,\n",
       "        1.03943817,  1.00889704,  1.28746573,  0.89761083,  1.22547434,\n",
       "        1.00426828,  1.00503688,  1.09703497,  1.04403336,  1.06098817,\n",
       "        1.04419832,  1.00109287,  1.01322328,  1.01352803,  0.98589413,\n",
       "        0.93013538,  1.0152807 ,  1.04005681,  0.93315608,  1.02816826,\n",
       "        0.95271571,  0.99983326,  1.0122397 ,  1.01008773,  1.75470689])"
      ]
     },
     "execution_count": 17,
     "metadata": {},
     "output_type": "execute_result"
    }
   ],
   "source": [
    "high_median.values/normal_median.values"
   ]
  },
  {
   "cell_type": "code",
   "execution_count": 18,
   "metadata": {},
   "outputs": [
    {
     "data": {
      "text/plain": [
       "1.0"
      ]
     },
     "execution_count": 18,
     "metadata": {},
     "output_type": "execute_result"
    }
   ],
   "source": [
    "high['sex'].median()"
   ]
  },
  {
   "cell_type": "code",
   "execution_count": 26,
   "metadata": {},
   "outputs": [
    {
     "data": {
      "text/plain": [
       "0        NaN\n",
       "1        NaN\n",
       "2       0.01\n",
       "3        NaN\n",
       "4        NaN\n",
       "5       0.01\n",
       "6        NaN\n",
       "7        NaN\n",
       "8       0.03\n",
       "9       0.02\n",
       "10       NaN\n",
       "11       NaN\n",
       "12       NaN\n",
       "13       NaN\n",
       "14       NaN\n",
       "15       NaN\n",
       "16       NaN\n",
       "17       NaN\n",
       "18       NaN\n",
       "19       NaN\n",
       "20       NaN\n",
       "21       NaN\n",
       "22       NaN\n",
       "23       NaN\n",
       "24       NaN\n",
       "25       NaN\n",
       "26       NaN\n",
       "27       NaN\n",
       "28       NaN\n",
       "29       NaN\n",
       "        ... \n",
       "5612    0.03\n",
       "5613    0.01\n",
       "5614     NaN\n",
       "5615     NaN\n",
       "5616    0.04\n",
       "5617     NaN\n",
       "5618     NaN\n",
       "5619     NaN\n",
       "5620     NaN\n",
       "5621     NaN\n",
       "5622     NaN\n",
       "5623     NaN\n",
       "5624     NaN\n",
       "5625     NaN\n",
       "5626    0.03\n",
       "5627     NaN\n",
       "5628     NaN\n",
       "5629     NaN\n",
       "5630     NaN\n",
       "5631     NaN\n",
       "5632     NaN\n",
       "5633    0.04\n",
       "5634    0.03\n",
       "5635     NaN\n",
       "5636     NaN\n",
       "5637     NaN\n",
       "5638     NaN\n",
       "5639    0.01\n",
       "5640     NaN\n",
       "5641     NaN\n",
       "Name: f17, Length: 5642, dtype: float64"
      ]
     },
     "execution_count": 26,
     "metadata": {},
     "output_type": "execute_result"
    }
   ],
   "source": [
    "scale_train_target['f17']"
   ]
  },
  {
   "cell_type": "markdown",
   "metadata": {},
   "source": [
    "### feature 1 age"
   ]
  },
  {
   "cell_type": "code",
   "execution_count": 24,
   "metadata": {},
   "outputs": [],
   "source": [
    "high_data = high.loc[:,'f1']\n",
    "high_data_describe = high_data.describe()\n",
    "normal_data = normal.loc[:,'f2']\n",
    "normal_data_describe = normal_data.describe()"
   ]
  },
  {
   "cell_type": "code",
   "execution_count": 25,
   "metadata": {},
   "outputs": [
    {
     "data": {
      "image/png": "[encoded data removed]",
      "text/plain": [
       "<matplotlib.figure.Figure at 0x7f0ef7d5b518>"
      ]
     },
     "metadata": {},
     "output_type": "display_data"
    },
    {
     "name": "stdout",
     "output_type": "stream",
     "text": [
      "min:0.12 median:25.59 max:388.0\n",
      "1.07964700093\n"
     ]
    }
   ],
   "source": [
    "x = range(len(high_data))\n",
    "plt.scatter(x, high_data, label='y_pred')\n",
    "plt.legend()\n",
    "plt.show()\n",
    "print('min:' + str(high_data.min()) + ' median:' + str(high_data.median()) + ' max:' + str(high_data.max()))\n",
    "print(high_data_describe['mean']/high_data_describe['std'])"
   ]
  },
  {
   "cell_type": "code",
   "execution_count": 20,
   "metadata": {},
   "outputs": [
    {
     "data": {
      "image/png": "[encoded data removed]",
      "text/plain": [
       "<matplotlib.figure.Figure at 0x7ff6b49af320>"
      ]
     },
     "metadata": {},
     "output_type": "display_data"
    },
    {
     "name": "stdout",
     "output_type": "stream",
     "text": [
      "min:3 median:43.0 max:93\n",
      "3.51031767874\n"
     ]
    }
   ],
   "source": [
    "x = range(len(normal_data))\n",
    "plt.scatter(x, normal_data, label='y_pred')\n",
    "plt.legend()\n",
    "plt.show()\n",
    "print('min:' + str(normal_data.min()) + ' median:' + str(normal_data.median()) + ' max:' + str(normal_data.max()))\n",
    "print(normal_data_describe['mean']/normal_data_describe['std'])"
   ]
  },
  {
   "cell_type": "markdown",
   "metadata": {},
   "source": [
    "### feature f0"
   ]
  },
  {
   "cell_type": "code",
   "execution_count": 23,
   "metadata": {},
   "outputs": [],
   "source": [
    "high_data = high.loc[:,'f0']\n",
    "high_data_describe = high_data.describe()\n",
    "normal_data = normal.loc[:,'f0']\n",
    "normal_data_describe = normal_data.describe()"
   ]
  },
  {
   "cell_type": "code",
   "execution_count": 24,
   "metadata": {},
   "outputs": [
    {
     "data": {
      "image/png": "[encoded data removed]",
      "text/plain": [
       "<matplotlib.figure.Figure at 0x7ff6b45b47b8>"
      ]
     },
     "metadata": {},
     "output_type": "display_data"
    },
    {
     "name": "stdout",
     "output_type": "stream",
     "text": [
      "min:11.99 median:25.07 max:281.21\n",
      "1.51962742063\n"
     ]
    }
   ],
   "source": [
    "x = range(len(high_data))\n",
    "plt.scatter(x, high_data, label='y_pred')\n",
    "plt.legend()\n",
    "plt.show()\n",
    "print('min:' + str(high_data.min()) + ' median:' + str(high_data.median()) + ' max:' + str(high_data.max()))\n",
    "print(high_data_describe['mean']/high_data_describe['std'])"
   ]
  },
  {
   "cell_type": "code",
   "execution_count": 25,
   "metadata": {},
   "outputs": [
    {
     "data": {
      "image/png": "[encoded data removed]",
      "text/plain": [
       "<matplotlib.figure.Figure at 0x7ff6b45bee48>"
      ]
     },
     "metadata": {},
     "output_type": "display_data"
    },
    {
     "name": "stdout",
     "output_type": "stream",
     "text": [
      "min:10.04 median:23.54 max:434.95\n",
      "2.07559553872\n"
     ]
    }
   ],
   "source": [
    "x = range(len(normal_data))\n",
    "plt.scatter(x, normal_data, label='y_pred')\n",
    "plt.legend()\n",
    "plt.show()\n",
    "print('min:' + str(normal_data.min()) + ' median:' + str(normal_data.median()) + ' max:' + str(normal_data.max()))\n",
    "print(normal_data_describe['mean']/normal_data_describe['std'])"
   ]
  },
  {
   "cell_type": "markdown",
   "metadata": {},
   "source": [
    "### feature f1"
   ]
  },
  {
   "cell_type": "code",
   "execution_count": 26,
   "metadata": {},
   "outputs": [],
   "source": [
    "high_data = high.loc[:,'f1']\n",
    "high_data_describe = high_data.describe()\n",
    "normal_data = normal.loc[:,'f1']\n",
    "normal_data_describe = normal_data.describe()"
   ]
  },
  {
   "cell_type": "code",
   "execution_count": 27,
   "metadata": {},
   "outputs": [
    {
     "data": {
      "image/png": "[encoded data removed]",
      "text/plain": [
       "<matplotlib.figure.Figure at 0x7ff6b45a4cc0>"
      ]
     },
     "metadata": {},
     "output_type": "display_data"
    },
    {
     "name": "stdout",
     "output_type": "stream",
     "text": [
      "min:0.12 median:25.59 max:388.0\n",
      "1.07964700093\n"
     ]
    }
   ],
   "source": [
    "x = range(len(high_data))\n",
    "plt.scatter(x, high_data, label='y_pred')\n",
    "plt.legend()\n",
    "plt.show()\n",
    "print('min:' + str(high_data.min()) + ' median:' + str(high_data.median()) + ' max:' + str(high_data.max()))\n",
    "print(high_data_describe['mean']/high_data_describe['std'])"
   ]
  },
  {
   "cell_type": "code",
   "execution_count": 28,
   "metadata": {},
   "outputs": [
    {
     "data": {
      "image/png": "[encoded data removed]",
      "text/plain": [
       "<matplotlib.figure.Figure at 0x7ff6b44ed748>"
      ]
     },
     "metadata": {},
     "output_type": "display_data"
    },
    {
     "name": "stdout",
     "output_type": "stream",
     "text": [
      "min:0.76 median:20.74 max:498.89\n",
      "1.25355381753\n"
     ]
    }
   ],
   "source": [
    "x = range(len(normal_data))\n",
    "plt.scatter(x, normal_data, label='y_pred')\n",
    "plt.legend()\n",
    "plt.show()\n",
    "print('min:' + str(normal_data.min()) + ' median:' + str(normal_data.median()) + ' max:' + str(normal_data.max()))\n",
    "print(normal_data_describe['mean']/normal_data_describe['std'])"
   ]
  },
  {
   "cell_type": "markdown",
   "metadata": {},
   "source": [
    "### feature f2"
   ]
  },
  {
   "cell_type": "code",
   "execution_count": 29,
   "metadata": {},
   "outputs": [],
   "source": [
    "high_data = high.loc[:,'f2']\n",
    "high_data_describe = high_data.describe()\n",
    "normal_data = normal.loc[:,'f2']\n",
    "normal_data_describe = normal_data.describe()"
   ]
  },
  {
   "cell_type": "code",
   "execution_count": 30,
   "metadata": {},
   "outputs": [
    {
     "data": {
      "image/png": "[encoded data removed]",
      "text/plain": [
       "<matplotlib.figure.Figure at 0x7ff6b44f9048>"
      ]
     },
     "metadata": {},
     "output_type": "display_data"
    },
    {
     "name": "stdout",
     "output_type": "stream",
     "text": [
      "min:43.46 median:94.78 max:249.6\n",
      "3.70014568506\n"
     ]
    }
   ],
   "source": [
    "x = range(len(high_data))\n",
    "plt.scatter(x, high_data, label='y_pred')\n",
    "plt.legend()\n",
    "plt.show()\n",
    "print('min:' + str(high_data.min()) + ' median:' + str(high_data.median()) + ' max:' + str(high_data.max()))\n",
    "print(high_data_describe['mean']/high_data_describe['std'])"
   ]
  },
  {
   "cell_type": "code",
   "execution_count": 32,
   "metadata": {},
   "outputs": [
    {
     "data": {
      "image/png": "[encoded data removed]",
      "text/plain": [
       "<matplotlib.figure.Figure at 0x7ff6b44db978>"
      ]
     },
     "metadata": {},
     "output_type": "display_data"
    },
    {
     "name": "stdout",
     "output_type": "stream",
     "text": [
      "min:22.98 median:82.9 max:374.32\n",
      "3.39213806424\n"
     ]
    },
    {
     "ename": "TypeError",
     "evalue": "integer argument expected, got float",
     "output_type": "error",
     "traceback": [
      "\u001b[0;31m---------------------------------------------------------------------------\u001b[0m",
      "\u001b[0;31mTypeError\u001b[0m                                 Traceback (most recent call last)",
      "\u001b[0;32m<ipython-input-32-b46a6ccd7a9e>\u001b[0m in \u001b[0;36m<module>\u001b[0;34m()\u001b[0m\n\u001b[1;32m      5\u001b[0m \u001b[0mprint\u001b[0m\u001b[0;34m(\u001b[0m\u001b[0;34m'min:'\u001b[0m \u001b[0;34m+\u001b[0m \u001b[0mstr\u001b[0m\u001b[0;34m(\u001b[0m\u001b[0mnormal_data\u001b[0m\u001b[0;34m.\u001b[0m\u001b[0mmin\u001b[0m\u001b[0;34m(\u001b[0m\u001b[0;34m)\u001b[0m\u001b[0;34m)\u001b[0m \u001b[0;34m+\u001b[0m \u001b[0;34m' median:'\u001b[0m \u001b[0;34m+\u001b[0m \u001b[0mstr\u001b[0m\u001b[0;34m(\u001b[0m\u001b[0mnormal_data\u001b[0m\u001b[0;34m.\u001b[0m\u001b[0mmedian\u001b[0m\u001b[0;34m(\u001b[0m\u001b[0;34m)\u001b[0m\u001b[0;34m)\u001b[0m \u001b[0;34m+\u001b[0m \u001b[0;34m' max:'\u001b[0m \u001b[0;34m+\u001b[0m \u001b[0mstr\u001b[0m\u001b[0;34m(\u001b[0m\u001b[0mnormal_data\u001b[0m\u001b[0;34m.\u001b[0m\u001b[0mmax\u001b[0m\u001b[0;34m(\u001b[0m\u001b[0;34m)\u001b[0m\u001b[0;34m)\u001b[0m\u001b[0;34m)\u001b[0m\u001b[0;34m\u001b[0m\u001b[0m\n\u001b[1;32m      6\u001b[0m \u001b[0mprint\u001b[0m\u001b[0;34m(\u001b[0m\u001b[0mnormal_data_describe\u001b[0m\u001b[0;34m[\u001b[0m\u001b[0;34m'mean'\u001b[0m\u001b[0;34m]\u001b[0m\u001b[0;34m/\u001b[0m\u001b[0mnormal_data_describe\u001b[0m\u001b[0;34m[\u001b[0m\u001b[0;34m'std'\u001b[0m\u001b[0;34m]\u001b[0m\u001b[0;34m)\u001b[0m\u001b[0;34m\u001b[0m\u001b[0m\n\u001b[0;32m----> 7\u001b[0;31m \u001b[0mplt\u001b[0m\u001b[0;34m.\u001b[0m\u001b[0msavefig\u001b[0m\u001b[0;34m(\u001b[0m\u001b[0;34m\"examples.jpg\"\u001b[0m\u001b[0;34m)\u001b[0m\u001b[0;34m\u001b[0m\u001b[0m\n\u001b[0m",
      "\u001b[0;32m/usr/local/lib/python3.5/dist-packages/matplotlib/pyplot.py\u001b[0m in \u001b[0;36msavefig\u001b[0;34m(*args, **kwargs)\u001b[0m\n\u001b[1;32m    699\u001b[0m \u001b[0;32mdef\u001b[0m \u001b[0msavefig\u001b[0m\u001b[0;34m(\u001b[0m\u001b[0;34m*\u001b[0m\u001b[0margs\u001b[0m\u001b[0;34m,\u001b[0m \u001b[0;34m**\u001b[0m\u001b[0mkwargs\u001b[0m\u001b[0;34m)\u001b[0m\u001b[0;34m:\u001b[0m\u001b[0;34m\u001b[0m\u001b[0m\n\u001b[1;32m    700\u001b[0m     \u001b[0mfig\u001b[0m \u001b[0;34m=\u001b[0m \u001b[0mgcf\u001b[0m\u001b[0;34m(\u001b[0m\u001b[0;34m)\u001b[0m\u001b[0;34m\u001b[0m\u001b[0m\n\u001b[0;32m--> 701\u001b[0;31m     \u001b[0mres\u001b[0m \u001b[0;34m=\u001b[0m \u001b[0mfig\u001b[0m\u001b[0;34m.\u001b[0m\u001b[0msavefig\u001b[0m\u001b[0;34m(\u001b[0m\u001b[0;34m*\u001b[0m\u001b[0margs\u001b[0m\u001b[0;34m,\u001b[0m \u001b[0;34m**\u001b[0m\u001b[0mkwargs\u001b[0m\u001b[0;34m)\u001b[0m\u001b[0;34m\u001b[0m\u001b[0m\n\u001b[0m\u001b[1;32m    702\u001b[0m     \u001b[0mfig\u001b[0m\u001b[0;34m.\u001b[0m\u001b[0mcanvas\u001b[0m\u001b[0;34m.\u001b[0m\u001b[0mdraw_idle\u001b[0m\u001b[0;34m(\u001b[0m\u001b[0;34m)\u001b[0m   \u001b[0;31m# need this if 'transparent=True' to reset colors\u001b[0m\u001b[0;34m\u001b[0m\u001b[0m\n\u001b[1;32m    703\u001b[0m     \u001b[0;32mreturn\u001b[0m \u001b[0mres\u001b[0m\u001b[0;34m\u001b[0m\u001b[0m\n",
      "\u001b[0;32m/usr/local/lib/python3.5/dist-packages/matplotlib/figure.py\u001b[0m in \u001b[0;36msavefig\u001b[0;34m(self, fname, **kwargs)\u001b[0m\n\u001b[1;32m   1832\u001b[0m             \u001b[0mself\u001b[0m\u001b[0;34m.\u001b[0m\u001b[0mset_frameon\u001b[0m\u001b[0;34m(\u001b[0m\u001b[0mframeon\u001b[0m\u001b[0;34m)\u001b[0m\u001b[0;34m\u001b[0m\u001b[0m\n\u001b[1;32m   1833\u001b[0m \u001b[0;34m\u001b[0m\u001b[0m\n\u001b[0;32m-> 1834\u001b[0;31m         \u001b[0mself\u001b[0m\u001b[0;34m.\u001b[0m\u001b[0mcanvas\u001b[0m\u001b[0;34m.\u001b[0m\u001b[0mprint_figure\u001b[0m\u001b[0;34m(\u001b[0m\u001b[0mfname\u001b[0m\u001b[0;34m,\u001b[0m \u001b[0;34m**\u001b[0m\u001b[0mkwargs\u001b[0m\u001b[0;34m)\u001b[0m\u001b[0;34m\u001b[0m\u001b[0m\n\u001b[0m\u001b[1;32m   1835\u001b[0m \u001b[0;34m\u001b[0m\u001b[0m\n\u001b[1;32m   1836\u001b[0m         \u001b[0;32mif\u001b[0m \u001b[0mframeon\u001b[0m\u001b[0;34m:\u001b[0m\u001b[0;34m\u001b[0m\u001b[0m\n",
      "\u001b[0;32m/usr/local/lib/python3.5/dist-packages/matplotlib/backend_bases.py\u001b[0m in \u001b[0;36mprint_figure\u001b[0;34m(self, filename, dpi, facecolor, edgecolor, orientation, format, **kwargs)\u001b[0m\n\u001b[1;32m   2265\u001b[0m                 \u001b[0morientation\u001b[0m\u001b[0;34m=\u001b[0m\u001b[0morientation\u001b[0m\u001b[0;34m,\u001b[0m\u001b[0;34m\u001b[0m\u001b[0m\n\u001b[1;32m   2266\u001b[0m                 \u001b[0mbbox_inches_restore\u001b[0m\u001b[0;34m=\u001b[0m\u001b[0m_bbox_inches_restore\u001b[0m\u001b[0;34m,\u001b[0m\u001b[0;34m\u001b[0m\u001b[0m\n\u001b[0;32m-> 2267\u001b[0;31m                 **kwargs)\n\u001b[0m\u001b[1;32m   2268\u001b[0m         \u001b[0;32mfinally\u001b[0m\u001b[0;34m:\u001b[0m\u001b[0;34m\u001b[0m\u001b[0m\n\u001b[1;32m   2269\u001b[0m             \u001b[0;32mif\u001b[0m \u001b[0mbbox_inches\u001b[0m \u001b[0;32mand\u001b[0m \u001b[0mrestore_bbox\u001b[0m\u001b[0;34m:\u001b[0m\u001b[0;34m\u001b[0m\u001b[0m\n",
      "\u001b[0;32m/usr/local/lib/python3.5/dist-packages/matplotlib/backends/backend_agg.py\u001b[0m in \u001b[0;36mprint_jpg\u001b[0;34m(self, filename_or_obj, *args, **kwargs)\u001b[0m\n\u001b[1;32m    582\u001b[0m                 \u001b[0moptions\u001b[0m\u001b[0;34m[\u001b[0m\u001b[0;34m'dpi'\u001b[0m\u001b[0;34m]\u001b[0m \u001b[0;34m=\u001b[0m \u001b[0;34m(\u001b[0m\u001b[0moptions\u001b[0m\u001b[0;34m[\u001b[0m\u001b[0;34m'dpi'\u001b[0m\u001b[0;34m]\u001b[0m\u001b[0;34m,\u001b[0m \u001b[0moptions\u001b[0m\u001b[0;34m[\u001b[0m\u001b[0;34m'dpi'\u001b[0m\u001b[0;34m]\u001b[0m\u001b[0;34m)\u001b[0m\u001b[0;34m\u001b[0m\u001b[0m\n\u001b[1;32m    583\u001b[0m \u001b[0;34m\u001b[0m\u001b[0m\n\u001b[0;32m--> 584\u001b[0;31m             \u001b[0;32mreturn\u001b[0m \u001b[0mbackground\u001b[0m\u001b[0;34m.\u001b[0m\u001b[0msave\u001b[0m\u001b[0;34m(\u001b[0m\u001b[0mfilename_or_obj\u001b[0m\u001b[0;34m,\u001b[0m \u001b[0mformat\u001b[0m\u001b[0;34m=\u001b[0m\u001b[0;34m'jpeg'\u001b[0m\u001b[0;34m,\u001b[0m \u001b[0;34m**\u001b[0m\u001b[0moptions\u001b[0m\u001b[0;34m)\u001b[0m\u001b[0;34m\u001b[0m\u001b[0m\n\u001b[0m\u001b[1;32m    585\u001b[0m         \u001b[0mprint_jpeg\u001b[0m \u001b[0;34m=\u001b[0m \u001b[0mprint_jpg\u001b[0m\u001b[0;34m\u001b[0m\u001b[0m\n\u001b[1;32m    586\u001b[0m \u001b[0;34m\u001b[0m\u001b[0m\n",
      "\u001b[0;32m/usr/lib/python3/dist-packages/PIL/Image.py\u001b[0m in \u001b[0;36msave\u001b[0;34m(self, fp, format, **params)\u001b[0m\n\u001b[1;32m   1673\u001b[0m \u001b[0;34m\u001b[0m\u001b[0m\n\u001b[1;32m   1674\u001b[0m         \u001b[0;32mtry\u001b[0m\u001b[0;34m:\u001b[0m\u001b[0;34m\u001b[0m\u001b[0m\n\u001b[0;32m-> 1675\u001b[0;31m             \u001b[0msave_handler\u001b[0m\u001b[0;34m(\u001b[0m\u001b[0mself\u001b[0m\u001b[0;34m,\u001b[0m \u001b[0mfp\u001b[0m\u001b[0;34m,\u001b[0m \u001b[0mfilename\u001b[0m\u001b[0;34m)\u001b[0m\u001b[0;34m\u001b[0m\u001b[0m\n\u001b[0m\u001b[1;32m   1676\u001b[0m         \u001b[0;32mfinally\u001b[0m\u001b[0;34m:\u001b[0m\u001b[0;34m\u001b[0m\u001b[0m\n\u001b[1;32m   1677\u001b[0m             \u001b[0;31m# do what we can to clean up\u001b[0m\u001b[0;34m\u001b[0m\u001b[0;34m\u001b[0m\u001b[0m\n",
      "\u001b[0;32m/usr/lib/python3/dist-packages/PIL/JpegImagePlugin.py\u001b[0m in \u001b[0;36m_save\u001b[0;34m(im, fp, filename)\u001b[0m\n\u001b[1;32m    706\u001b[0m     \u001b[0mbufsize\u001b[0m \u001b[0;34m=\u001b[0m \u001b[0mmax\u001b[0m\u001b[0;34m(\u001b[0m\u001b[0mImageFile\u001b[0m\u001b[0;34m.\u001b[0m\u001b[0mMAXBLOCK\u001b[0m\u001b[0;34m,\u001b[0m \u001b[0mbufsize\u001b[0m\u001b[0;34m,\u001b[0m \u001b[0mlen\u001b[0m\u001b[0;34m(\u001b[0m\u001b[0minfo\u001b[0m\u001b[0;34m.\u001b[0m\u001b[0mget\u001b[0m\u001b[0;34m(\u001b[0m\u001b[0;34m\"exif\"\u001b[0m\u001b[0;34m,\u001b[0m \u001b[0;34mb\"\"\u001b[0m\u001b[0;34m)\u001b[0m\u001b[0;34m)\u001b[0m \u001b[0;34m+\u001b[0m \u001b[0;36m5\u001b[0m\u001b[0;34m)\u001b[0m\u001b[0;34m\u001b[0m\u001b[0m\n\u001b[1;32m    707\u001b[0m \u001b[0;34m\u001b[0m\u001b[0m\n\u001b[0;32m--> 708\u001b[0;31m     \u001b[0mImageFile\u001b[0m\u001b[0;34m.\u001b[0m\u001b[0m_save\u001b[0m\u001b[0;34m(\u001b[0m\u001b[0mim\u001b[0m\u001b[0;34m,\u001b[0m \u001b[0mfp\u001b[0m\u001b[0;34m,\u001b[0m \u001b[0;34m[\u001b[0m\u001b[0;34m(\u001b[0m\u001b[0;34m\"jpeg\"\u001b[0m\u001b[0;34m,\u001b[0m \u001b[0;34m(\u001b[0m\u001b[0;36m0\u001b[0m\u001b[0;34m,\u001b[0m \u001b[0;36m0\u001b[0m\u001b[0;34m)\u001b[0m\u001b[0;34m+\u001b[0m\u001b[0mim\u001b[0m\u001b[0;34m.\u001b[0m\u001b[0msize\u001b[0m\u001b[0;34m,\u001b[0m \u001b[0;36m0\u001b[0m\u001b[0;34m,\u001b[0m \u001b[0mrawmode\u001b[0m\u001b[0;34m)\u001b[0m\u001b[0;34m]\u001b[0m\u001b[0;34m,\u001b[0m \u001b[0mbufsize\u001b[0m\u001b[0;34m)\u001b[0m\u001b[0;34m\u001b[0m\u001b[0m\n\u001b[0m\u001b[1;32m    709\u001b[0m \u001b[0;34m\u001b[0m\u001b[0m\n\u001b[1;32m    710\u001b[0m \u001b[0;34m\u001b[0m\u001b[0m\n",
      "\u001b[0;32m/usr/lib/python3/dist-packages/PIL/ImageFile.py\u001b[0m in \u001b[0;36m_save\u001b[0;34m(im, fp, tile, bufsize)\u001b[0m\n\u001b[1;32m    478\u001b[0m         \u001b[0;31m# slight speedup: compress to real file object\u001b[0m\u001b[0;34m\u001b[0m\u001b[0;34m\u001b[0m\u001b[0m\n\u001b[1;32m    479\u001b[0m         \u001b[0;32mfor\u001b[0m \u001b[0me\u001b[0m\u001b[0;34m,\u001b[0m \u001b[0mb\u001b[0m\u001b[0;34m,\u001b[0m \u001b[0mo\u001b[0m\u001b[0;34m,\u001b[0m \u001b[0ma\u001b[0m \u001b[0;32min\u001b[0m \u001b[0mtile\u001b[0m\u001b[0;34m:\u001b[0m\u001b[0;34m\u001b[0m\u001b[0m\n\u001b[0;32m--> 480\u001b[0;31m             \u001b[0me\u001b[0m \u001b[0;34m=\u001b[0m \u001b[0mImage\u001b[0m\u001b[0;34m.\u001b[0m\u001b[0m_getencoder\u001b[0m\u001b[0;34m(\u001b[0m\u001b[0mim\u001b[0m\u001b[0;34m.\u001b[0m\u001b[0mmode\u001b[0m\u001b[0;34m,\u001b[0m \u001b[0me\u001b[0m\u001b[0;34m,\u001b[0m \u001b[0ma\u001b[0m\u001b[0;34m,\u001b[0m \u001b[0mim\u001b[0m\u001b[0;34m.\u001b[0m\u001b[0mencoderconfig\u001b[0m\u001b[0;34m)\u001b[0m\u001b[0;34m\u001b[0m\u001b[0m\n\u001b[0m\u001b[1;32m    481\u001b[0m             \u001b[0;32mif\u001b[0m \u001b[0mo\u001b[0m \u001b[0;34m>\u001b[0m \u001b[0;36m0\u001b[0m\u001b[0;34m:\u001b[0m\u001b[0;34m\u001b[0m\u001b[0m\n\u001b[1;32m    482\u001b[0m                 \u001b[0mfp\u001b[0m\u001b[0;34m.\u001b[0m\u001b[0mseek\u001b[0m\u001b[0;34m(\u001b[0m\u001b[0mo\u001b[0m\u001b[0;34m,\u001b[0m \u001b[0;36m0\u001b[0m\u001b[0;34m)\u001b[0m\u001b[0;34m\u001b[0m\u001b[0m\n",
      "\u001b[0;32m/usr/lib/python3/dist-packages/PIL/Image.py\u001b[0m in \u001b[0;36m_getencoder\u001b[0;34m(mode, encoder_name, args, extra)\u001b[0m\n\u001b[1;32m    429\u001b[0m         \u001b[0mencoder\u001b[0m \u001b[0;34m=\u001b[0m \u001b[0mgetattr\u001b[0m\u001b[0;34m(\u001b[0m\u001b[0mcore\u001b[0m\u001b[0;34m,\u001b[0m \u001b[0mencoder_name\u001b[0m \u001b[0;34m+\u001b[0m \u001b[0;34m\"_encoder\"\u001b[0m\u001b[0;34m)\u001b[0m\u001b[0;34m\u001b[0m\u001b[0m\n\u001b[1;32m    430\u001b[0m         \u001b[0;31m# print(encoder, mode, args + extra)\u001b[0m\u001b[0;34m\u001b[0m\u001b[0;34m\u001b[0m\u001b[0m\n\u001b[0;32m--> 431\u001b[0;31m         \u001b[0;32mreturn\u001b[0m \u001b[0mencoder\u001b[0m\u001b[0;34m(\u001b[0m\u001b[0mmode\u001b[0m\u001b[0;34m,\u001b[0m \u001b[0;34m*\u001b[0m\u001b[0margs\u001b[0m \u001b[0;34m+\u001b[0m \u001b[0mextra\u001b[0m\u001b[0;34m)\u001b[0m\u001b[0;34m\u001b[0m\u001b[0m\n\u001b[0m\u001b[1;32m    432\u001b[0m     \u001b[0;32mexcept\u001b[0m \u001b[0mAttributeError\u001b[0m\u001b[0;34m:\u001b[0m\u001b[0;34m\u001b[0m\u001b[0m\n\u001b[1;32m    433\u001b[0m         \u001b[0;32mraise\u001b[0m \u001b[0mIOError\u001b[0m\u001b[0;34m(\u001b[0m\u001b[0;34m\"encoder %s not available\"\u001b[0m \u001b[0;34m%\u001b[0m \u001b[0mencoder_name\u001b[0m\u001b[0;34m)\u001b[0m\u001b[0;34m\u001b[0m\u001b[0m\n",
      "\u001b[0;31mTypeError\u001b[0m: integer argument expected, got float"
     ]
    },
    {
     "data": {
      "text/plain": [
       "<matplotlib.figure.Figure at 0x7ff6b4452e48>"
      ]
     },
     "metadata": {},
     "output_type": "display_data"
    }
   ],
   "source": [
    "x = range(len(normal_data))\n",
    "plt.scatter(x, normal_data, label='y_pred')\n",
    "plt.legend()\n",
    "plt.show()\n",
    "print('min:' + str(normal_data.min()) + ' median:' + str(normal_data.median()) + ' max:' + str(normal_data.max()))\n",
    "print(normal_data_describe['mean']/normal_data_describe['std'])\n",
    "plt.savefig(\"examples.jpg\")"
   ]
  },
  {
   "cell_type": "markdown",
   "metadata": {},
   "source": [
    "### feature f3"
   ]
  },
  {
   "cell_type": "code",
   "execution_count": null,
   "metadata": {},
   "outputs": [],
   "source": [
    "high_data = high.loc[:,'f2']\n",
    "high_data_describe = high_data.describe()\n",
    "normal_data = normal.loc[:,'f2']\n",
    "normal_data_describe = normal_data.describe()"
   ]
  },
  {
   "cell_type": "code",
   "execution_count": null,
   "metadata": {},
   "outputs": [],
   "source": []
  },
  {
   "cell_type": "code",
   "execution_count": null,
   "metadata": {},
   "outputs": [],
   "source": []
  },
  {
   "cell_type": "code",
   "execution_count": null,
   "metadata": {},
   "outputs": [],
   "source": []
  },
  {
   "cell_type": "code",
   "execution_count": null,
   "metadata": {},
   "outputs": [],
   "source": []
  },
  {
   "cell_type": "code",
   "execution_count": null,
   "metadata": {},
   "outputs": [],
   "source": []
  },
  {
   "cell_type": "code",
   "execution_count": null,
   "metadata": {},
   "outputs": [],
   "source": []
  },
  {
   "cell_type": "code",
   "execution_count": null,
   "metadata": {},
   "outputs": [],
   "source": []
  },
  {
   "cell_type": "code",
   "execution_count": null,
   "metadata": {},
   "outputs": [],
   "source": []
  },
  {
   "cell_type": "code",
   "execution_count": null,
   "metadata": {},
   "outputs": [],
   "source": []
  },
  {
   "cell_type": "code",
   "execution_count": null,
   "metadata": {},
   "outputs": [],
   "source": []
  },
  {
   "cell_type": "code",
   "execution_count": null,
   "metadata": {},
   "outputs": [],
   "source": []
  },
  {
   "cell_type": "code",
   "execution_count": null,
   "metadata": {},
   "outputs": [],
   "source": []
  },
  {
   "cell_type": "code",
   "execution_count": null,
   "metadata": {},
   "outputs": [],
   "source": []
  },
  {
   "cell_type": "code",
   "execution_count": null,
   "metadata": {},
   "outputs": [],
   "source": []
  },
  {
   "cell_type": "code",
   "execution_count": null,
   "metadata": {},
   "outputs": [],
   "source": []
  },
  {
   "cell_type": "code",
   "execution_count": null,
   "metadata": {},
   "outputs": [],
   "source": []
  },
  {
   "cell_type": "code",
   "execution_count": 95,
   "metadata": {},
   "outputs": [
    {
     "data": {
      "text/plain": [
       "0.95729346470019117"
      ]
     },
     "execution_count": 95,
     "metadata": {},
     "output_type": "execute_result"
    }
   ],
   "source": [
    "high_describe.iloc[:,5]['mean']/high_describe.iloc[:,5]['std']"
   ]
  },
  {
   "cell_type": "code",
   "execution_count": 80,
   "metadata": {},
   "outputs": [
    {
     "data": {
      "text/plain": [
       "49.54790684621122"
      ]
     },
     "execution_count": 80,
     "metadata": {},
     "output_type": "execute_result"
    }
   ],
   "source": [
    "high_describe.iloc[:,5].median()"
   ]
  },
  {
   "cell_type": "code",
   "execution_count": 82,
   "metadata": {},
   "outputs": [
    {
     "data": {
      "text/plain": [
       "9.0800000000000001"
      ]
     },
     "execution_count": 82,
     "metadata": {},
     "output_type": "execute_result"
    }
   ],
   "source": [
    "high_describe.iloc[:,5]['min']"
   ]
  },
  {
   "cell_type": "code",
   "execution_count": 83,
   "metadata": {},
   "outputs": [
    {
     "data": {
      "text/plain": [
       "736.99000000000001"
      ]
     },
     "execution_count": 83,
     "metadata": {},
     "output_type": "execute_result"
    }
   ],
   "source": [
    "high_describe.iloc[:,5]['max']"
   ]
  },
  {
   "cell_type": "code",
   "execution_count": 84,
   "metadata": {},
   "outputs": [
    {
     "data": {
      "text/plain": [
       "33.46577264986943"
      ]
     },
     "execution_count": 84,
     "metadata": {},
     "output_type": "execute_result"
    }
   ],
   "source": [
    "normal_describe.iloc[:,5].median()"
   ]
  },
  {
   "cell_type": "code",
   "execution_count": 85,
   "metadata": {},
   "outputs": [
    {
     "data": {
      "text/plain": [
       "6.3600000000000003"
      ]
     },
     "execution_count": 85,
     "metadata": {},
     "output_type": "execute_result"
    }
   ],
   "source": [
    "normal_describe.iloc[:,5]['min']"
   ]
  },
  {
   "cell_type": "code",
   "execution_count": 86,
   "metadata": {},
   "outputs": [
    {
     "data": {
      "text/plain": [
       "667.63"
      ]
     },
     "execution_count": 86,
     "metadata": {},
     "output_type": "execute_result"
    }
   ],
   "source": [
    "normal_describe.iloc[:,5]['max']"
   ]
  },
  {
   "cell_type": "code",
   "execution_count": 60,
   "metadata": {},
   "outputs": [],
   "source": [
    "high_median = high_describe.median()\n",
    "median_median = median_describe.median()\n",
    "normal_median = normal_describe.median()"
   ]
  },
  {
   "cell_type": "code",
   "execution_count": 61,
   "metadata": {},
   "outputs": [
    {
     "data": {
      "text/plain": [
       "array([ 1.75614055,  1.27184758,  1.07461641,  1.32552011,  1.09668863,\n",
       "        1.4805547 ,  1.00250517,  0.99886245,  1.00796547,  0.99590394,\n",
       "        1.78647745,  1.03977177,  0.95715127,  1.0645749 ,  1.06541763,\n",
       "        1.01901721,  1.00310737,  1.51012231,  0.98347038,  1.17809722,\n",
       "        1.        ,  1.        ,  1.09520363,  1.04341892,  1.05929028,\n",
       "        1.04235194,  1.0008108 ,  1.01319304,  1.01349823,  0.98788921,\n",
       "        0.93026887,  1.01525449,  1.03997967,  0.93327499,  1.02766734,\n",
       "        0.95428766,  0.99981364,  1.01252141,  1.01004212,  1.75470689])"
      ]
     },
     "execution_count": 61,
     "metadata": {},
     "output_type": "execute_result"
    }
   ],
   "source": [
    "high_median.values/normal_median.values"
   ]
  },
  {
   "cell_type": "code",
   "execution_count": null,
   "metadata": {},
   "outputs": [],
   "source": []
  },
  {
   "cell_type": "code",
   "execution_count": null,
   "metadata": {},
   "outputs": [],
   "source": []
  },
  {
   "cell_type": "code",
   "execution_count": null,
   "metadata": {},
   "outputs": [],
   "source": []
  },
  {
   "cell_type": "code",
   "execution_count": null,
   "metadata": {},
   "outputs": [],
   "source": []
  },
  {
   "cell_type": "code",
   "execution_count": null,
   "metadata": {},
   "outputs": [],
   "source": []
  }
 ],
 "metadata": {
  "kernelspec": {
   "display_name": "Python 3",
   "language": "python",
   "name": "python3"
  },
  "language_info": {
   "codemirror_mode": {
    "name": "ipython",
    "version": 3
   },
   "file_extension": ".py",
   "mimetype": "text/x-python",
   "name": "python",
   "nbconvert_exporter": "python",
   "pygments_lexer": "ipython3",
   "version": "3.5.2"
  }
 },
 "nbformat": 4,
 "nbformat_minor": 2
}
